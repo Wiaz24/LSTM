{
  "nbformat": 4,
  "nbformat_minor": 0,
  "metadata": {
    "colab": {
      "provenance": [],
      "gpuType": "T4",
      "include_colab_link": true
    },
    "kernelspec": {
      "name": "python3",
      "display_name": "Python 3"
    },
    "accelerator": "GPU",
    "gpuClass": "standard",
    "widgets": {
      "application/vnd.jupyter.widget-state+json": {
        "e555be6c4a454289927fdbe2ab1103d2": {
          "model_module": "@jupyter-widgets/controls",
          "model_name": "HBoxModel",
          "model_module_version": "1.5.0",
          "state": {
            "_dom_classes": [],
            "_model_module": "@jupyter-widgets/controls",
            "_model_module_version": "1.5.0",
            "_model_name": "HBoxModel",
            "_view_count": null,
            "_view_module": "@jupyter-widgets/controls",
            "_view_module_version": "1.5.0",
            "_view_name": "HBoxView",
            "box_style": "",
            "children": [
              "IPY_MODEL_bf267d525a6d4cf88a53f742ae4c2826",
              "IPY_MODEL_23a87bca70324e68bd0143880ff081c3",
              "IPY_MODEL_ee836c58c8ef43a1b240342ee8ced3ae"
            ],
            "layout": "IPY_MODEL_addcfc6d57e34f0890579fefba51c851"
          }
        },
        "bf267d525a6d4cf88a53f742ae4c2826": {
          "model_module": "@jupyter-widgets/controls",
          "model_name": "HTMLModel",
          "model_module_version": "1.5.0",
          "state": {
            "_dom_classes": [],
            "_model_module": "@jupyter-widgets/controls",
            "_model_module_version": "1.5.0",
            "_model_name": "HTMLModel",
            "_view_count": null,
            "_view_module": "@jupyter-widgets/controls",
            "_view_module_version": "1.5.0",
            "_view_name": "HTMLView",
            "description": "",
            "description_tooltip": null,
            "layout": "IPY_MODEL_43d6175a90cc4e238c136f55f7270dae",
            "placeholder": "​",
            "style": "IPY_MODEL_51c8efbef7be40c08767e739f3887250",
            "value": "100%"
          }
        },
        "23a87bca70324e68bd0143880ff081c3": {
          "model_module": "@jupyter-widgets/controls",
          "model_name": "FloatProgressModel",
          "model_module_version": "1.5.0",
          "state": {
            "_dom_classes": [],
            "_model_module": "@jupyter-widgets/controls",
            "_model_module_version": "1.5.0",
            "_model_name": "FloatProgressModel",
            "_view_count": null,
            "_view_module": "@jupyter-widgets/controls",
            "_view_module_version": "1.5.0",
            "_view_name": "ProgressView",
            "bar_style": "success",
            "description": "",
            "description_tooltip": null,
            "layout": "IPY_MODEL_45397cf817e14cc98d2c8faf4247b726",
            "max": 100,
            "min": 0,
            "orientation": "horizontal",
            "style": "IPY_MODEL_b3db8bccb9424ae0827d42af47c59cde",
            "value": 100
          }
        },
        "ee836c58c8ef43a1b240342ee8ced3ae": {
          "model_module": "@jupyter-widgets/controls",
          "model_name": "HTMLModel",
          "model_module_version": "1.5.0",
          "state": {
            "_dom_classes": [],
            "_model_module": "@jupyter-widgets/controls",
            "_model_module_version": "1.5.0",
            "_model_name": "HTMLModel",
            "_view_count": null,
            "_view_module": "@jupyter-widgets/controls",
            "_view_module_version": "1.5.0",
            "_view_name": "HTMLView",
            "description": "",
            "description_tooltip": null,
            "layout": "IPY_MODEL_fc58eb35eb944de1b5fce7ac994a6e98",
            "placeholder": "​",
            "style": "IPY_MODEL_59e90326df6f417f9cae66cd5d142eba",
            "value": " 100/100 [00:14&lt;00:00,  7.41it/s]"
          }
        },
        "addcfc6d57e34f0890579fefba51c851": {
          "model_module": "@jupyter-widgets/base",
          "model_name": "LayoutModel",
          "model_module_version": "1.2.0",
          "state": {
            "_model_module": "@jupyter-widgets/base",
            "_model_module_version": "1.2.0",
            "_model_name": "LayoutModel",
            "_view_count": null,
            "_view_module": "@jupyter-widgets/base",
            "_view_module_version": "1.2.0",
            "_view_name": "LayoutView",
            "align_content": null,
            "align_items": null,
            "align_self": null,
            "border": null,
            "bottom": null,
            "display": null,
            "flex": null,
            "flex_flow": null,
            "grid_area": null,
            "grid_auto_columns": null,
            "grid_auto_flow": null,
            "grid_auto_rows": null,
            "grid_column": null,
            "grid_gap": null,
            "grid_row": null,
            "grid_template_areas": null,
            "grid_template_columns": null,
            "grid_template_rows": null,
            "height": null,
            "justify_content": null,
            "justify_items": null,
            "left": null,
            "margin": null,
            "max_height": null,
            "max_width": null,
            "min_height": null,
            "min_width": null,
            "object_fit": null,
            "object_position": null,
            "order": null,
            "overflow": null,
            "overflow_x": null,
            "overflow_y": null,
            "padding": null,
            "right": null,
            "top": null,
            "visibility": null,
            "width": null
          }
        },
        "43d6175a90cc4e238c136f55f7270dae": {
          "model_module": "@jupyter-widgets/base",
          "model_name": "LayoutModel",
          "model_module_version": "1.2.0",
          "state": {
            "_model_module": "@jupyter-widgets/base",
            "_model_module_version": "1.2.0",
            "_model_name": "LayoutModel",
            "_view_count": null,
            "_view_module": "@jupyter-widgets/base",
            "_view_module_version": "1.2.0",
            "_view_name": "LayoutView",
            "align_content": null,
            "align_items": null,
            "align_self": null,
            "border": null,
            "bottom": null,
            "display": null,
            "flex": null,
            "flex_flow": null,
            "grid_area": null,
            "grid_auto_columns": null,
            "grid_auto_flow": null,
            "grid_auto_rows": null,
            "grid_column": null,
            "grid_gap": null,
            "grid_row": null,
            "grid_template_areas": null,
            "grid_template_columns": null,
            "grid_template_rows": null,
            "height": null,
            "justify_content": null,
            "justify_items": null,
            "left": null,
            "margin": null,
            "max_height": null,
            "max_width": null,
            "min_height": null,
            "min_width": null,
            "object_fit": null,
            "object_position": null,
            "order": null,
            "overflow": null,
            "overflow_x": null,
            "overflow_y": null,
            "padding": null,
            "right": null,
            "top": null,
            "visibility": null,
            "width": null
          }
        },
        "51c8efbef7be40c08767e739f3887250": {
          "model_module": "@jupyter-widgets/controls",
          "model_name": "DescriptionStyleModel",
          "model_module_version": "1.5.0",
          "state": {
            "_model_module": "@jupyter-widgets/controls",
            "_model_module_version": "1.5.0",
            "_model_name": "DescriptionStyleModel",
            "_view_count": null,
            "_view_module": "@jupyter-widgets/base",
            "_view_module_version": "1.2.0",
            "_view_name": "StyleView",
            "description_width": ""
          }
        },
        "45397cf817e14cc98d2c8faf4247b726": {
          "model_module": "@jupyter-widgets/base",
          "model_name": "LayoutModel",
          "model_module_version": "1.2.0",
          "state": {
            "_model_module": "@jupyter-widgets/base",
            "_model_module_version": "1.2.0",
            "_model_name": "LayoutModel",
            "_view_count": null,
            "_view_module": "@jupyter-widgets/base",
            "_view_module_version": "1.2.0",
            "_view_name": "LayoutView",
            "align_content": null,
            "align_items": null,
            "align_self": null,
            "border": null,
            "bottom": null,
            "display": null,
            "flex": null,
            "flex_flow": null,
            "grid_area": null,
            "grid_auto_columns": null,
            "grid_auto_flow": null,
            "grid_auto_rows": null,
            "grid_column": null,
            "grid_gap": null,
            "grid_row": null,
            "grid_template_areas": null,
            "grid_template_columns": null,
            "grid_template_rows": null,
            "height": null,
            "justify_content": null,
            "justify_items": null,
            "left": null,
            "margin": null,
            "max_height": null,
            "max_width": null,
            "min_height": null,
            "min_width": null,
            "object_fit": null,
            "object_position": null,
            "order": null,
            "overflow": null,
            "overflow_x": null,
            "overflow_y": null,
            "padding": null,
            "right": null,
            "top": null,
            "visibility": null,
            "width": null
          }
        },
        "b3db8bccb9424ae0827d42af47c59cde": {
          "model_module": "@jupyter-widgets/controls",
          "model_name": "ProgressStyleModel",
          "model_module_version": "1.5.0",
          "state": {
            "_model_module": "@jupyter-widgets/controls",
            "_model_module_version": "1.5.0",
            "_model_name": "ProgressStyleModel",
            "_view_count": null,
            "_view_module": "@jupyter-widgets/base",
            "_view_module_version": "1.2.0",
            "_view_name": "StyleView",
            "bar_color": null,
            "description_width": ""
          }
        },
        "fc58eb35eb944de1b5fce7ac994a6e98": {
          "model_module": "@jupyter-widgets/base",
          "model_name": "LayoutModel",
          "model_module_version": "1.2.0",
          "state": {
            "_model_module": "@jupyter-widgets/base",
            "_model_module_version": "1.2.0",
            "_model_name": "LayoutModel",
            "_view_count": null,
            "_view_module": "@jupyter-widgets/base",
            "_view_module_version": "1.2.0",
            "_view_name": "LayoutView",
            "align_content": null,
            "align_items": null,
            "align_self": null,
            "border": null,
            "bottom": null,
            "display": null,
            "flex": null,
            "flex_flow": null,
            "grid_area": null,
            "grid_auto_columns": null,
            "grid_auto_flow": null,
            "grid_auto_rows": null,
            "grid_column": null,
            "grid_gap": null,
            "grid_row": null,
            "grid_template_areas": null,
            "grid_template_columns": null,
            "grid_template_rows": null,
            "height": null,
            "justify_content": null,
            "justify_items": null,
            "left": null,
            "margin": null,
            "max_height": null,
            "max_width": null,
            "min_height": null,
            "min_width": null,
            "object_fit": null,
            "object_position": null,
            "order": null,
            "overflow": null,
            "overflow_x": null,
            "overflow_y": null,
            "padding": null,
            "right": null,
            "top": null,
            "visibility": null,
            "width": null
          }
        },
        "59e90326df6f417f9cae66cd5d142eba": {
          "model_module": "@jupyter-widgets/controls",
          "model_name": "DescriptionStyleModel",
          "model_module_version": "1.5.0",
          "state": {
            "_model_module": "@jupyter-widgets/controls",
            "_model_module_version": "1.5.0",
            "_model_name": "DescriptionStyleModel",
            "_view_count": null,
            "_view_module": "@jupyter-widgets/base",
            "_view_module_version": "1.2.0",
            "_view_name": "StyleView",
            "description_width": ""
          }
        }
      }
    }
  },
  "cells": [
    {
      "cell_type": "markdown",
      "metadata": {
        "id": "view-in-github",
        "colab_type": "text"
      },
      "source": [
        "<a href=\"https://colab.research.google.com/github/Wiaz24/LSTM/blob/batch_training/ProjektNN_LSTM.ipynb\" target=\"_parent\"><img src=\"https://colab.research.google.com/assets/colab-badge.svg\" alt=\"Open In Colab\"/></a>"
      ]
    },
    {
      "cell_type": "code",
      "metadata": {
        "id": "wb-Z7wNKUJko",
        "colab": {
          "base_uri": "https://localhost:8080/"
        },
        "outputId": "183c12b0-a768-4a42-bcd4-e6efd9313c73"
      },
      "source": [
        "import numpy as np\n",
        "import scipy as sp\n",
        "import matplotlib.pyplot as plt\n",
        "from matplotlib.dates import DateFormatter\n",
        "import pandas as pd\n",
        "import torch\n",
        "import torch.nn as nn\n",
        "import pandas_datareader as web\n",
        "import datetime as dt\n",
        "from torch.autograd import Variable\n",
        "from torch.utils.data import TensorDataset, DataLoader\n",
        "from sklearn.preprocessing import MinMaxScaler\n",
        "import yfinance as yf\n",
        "from pathlib import Path\n",
        "from tqdm.auto import tqdm\n",
        "import os\n",
        "print(torch.__version__)"
      ],
      "execution_count": 395,
      "outputs": [
        {
          "output_type": "stream",
          "name": "stdout",
          "text": [
            "2.0.0+cu118\n"
          ]
        }
      ]
    },
    {
      "cell_type": "code",
      "source": [
        "from google.colab import drive\n",
        "drive.mount('/content/drive')"
      ],
      "metadata": {
        "colab": {
          "base_uri": "https://localhost:8080/"
        },
        "id": "AAXql-twaD0-",
        "outputId": "16d0eca9-21d3-46a5-92e9-67e606a375ec"
      },
      "execution_count": 396,
      "outputs": [
        {
          "output_type": "stream",
          "name": "stdout",
          "text": [
            "Drive already mounted at /content/drive; to attempt to forcibly remount, call drive.mount(\"/content/drive\", force_remount=True).\n"
          ]
        }
      ]
    },
    {
      "cell_type": "code",
      "source": [
        "!mkdir datasets"
      ],
      "metadata": {
        "colab": {
          "base_uri": "https://localhost:8080/"
        },
        "id": "tBNtorgyZyac",
        "outputId": "06d45cdd-b871-493d-c506-a8934b2ff1a3"
      },
      "execution_count": 397,
      "outputs": [
        {
          "output_type": "stream",
          "name": "stdout",
          "text": [
            "mkdir: cannot create directory ‘datasets’: File exists\n"
          ]
        }
      ]
    },
    {
      "cell_type": "code",
      "source": [
        "!cp drive/MyDrive/LunarData.csv datasets/LunarData.csv"
      ],
      "metadata": {
        "id": "AqRM8qZDarvs"
      },
      "execution_count": 398,
      "outputs": []
    },
    {
      "cell_type": "markdown",
      "source": [
        "### Hyprparameters"
      ],
      "metadata": {
        "id": "Z8cQDh4BBny6"
      }
    },
    {
      "cell_type": "code",
      "source": [
        "num_epochs = 100\n",
        "learning_rate = 0.0001\n",
        "train_perc = 0.60\n",
        "batch_size = 32\n",
        "\n",
        "input_size = 14\n",
        "hidden_size = 256\n",
        "num_lstm_layers = 3\n",
        "\n",
        "seq_length = 48 # 1pkt = 1 godzina\n",
        "pred_length = 24 # 1pkt = 1 godzina"
      ],
      "metadata": {
        "id": "ZHfOSABRBm__"
      },
      "execution_count": 399,
      "outputs": []
    },
    {
      "cell_type": "code",
      "source": [
        "24*31"
      ],
      "metadata": {
        "colab": {
          "base_uri": "https://localhost:8080/"
        },
        "id": "XD3zc8Lxsk9Y",
        "outputId": "d30e2aa3-07bb-4bc8-bae5-6469df9ec01f"
      },
      "execution_count": 400,
      "outputs": [
        {
          "output_type": "execute_result",
          "data": {
            "text/plain": [
              "744"
            ]
          },
          "metadata": {},
          "execution_count": 400
        }
      ]
    },
    {
      "cell_type": "markdown",
      "source": [
        "### Download or load dataset"
      ],
      "metadata": {
        "id": "zUuUr3ystuFm"
      }
    },
    {
      "cell_type": "code",
      "source": [
        "DATASETS_PATH = Path(\"datasets\")\n",
        "DATASETS_PATH.mkdir(parents=True, exist_ok=True)\n",
        "\n",
        "DATASET_NAME = \"LunarData.csv\"\n",
        "#DATASET_NAME = \"BTC_USD.csv\"\n",
        "DATASET_SAVE_PATH = DATASETS_PATH / DATASET_NAME\n",
        "\n",
        "alldata = pd.read_csv(DATASET_SAVE_PATH)\n",
        "  \n",
        "# start = dt.datetime(2017, 1, 1)\n",
        "# end = dt.datetime.now()\n",
        "# alldata = yf.download('BTC-USD', start=start, end=end, progress=False)\n",
        "# print(f\"Saving dataset to: {DATASET_SAVE_PATH}\")\n",
        "# alldata.to_csv(DATASET_SAVE_PATH, index=False)"
      ],
      "metadata": {
        "id": "glt-ESActx1M"
      },
      "execution_count": 401,
      "outputs": []
    },
    {
      "cell_type": "markdown",
      "metadata": {
        "id": "e31mswiSBEEB"
      },
      "source": [
        "### Data plot"
      ]
    },
    {
      "cell_type": "code",
      "source": [
        "dates = pd.to_datetime(alldata['time'], unit='s')\n",
        "data = alldata.iloc[:, :-1].to_numpy()\n",
        "\n",
        "print(f\"(Num of examples, number of attributes) = {data.shape}\")\n",
        "date_form = DateFormatter(\"%Y\")\n",
        "_dates = dates\n",
        "fig, ax = plt.subplots()\n",
        "ax.plot(_dates, data)\n",
        "ax.xaxis.set_major_formatter(date_form)\n",
        "# Rotacja etykiet osi X\n",
        "plt.xticks(rotation=45)\n",
        "print(data[0:3,:])\n",
        "plt.show()"
      ],
      "metadata": {
        "colab": {
          "base_uri": "https://localhost:8080/",
          "height": 688
        },
        "id": "5wJDafmHuBRR",
        "outputId": "f48fa6a0-362c-4f89-d1f2-4f93f7bd117a"
      },
      "execution_count": 402,
      "outputs": [
        {
          "output_type": "stream",
          "name": "stdout",
          "text": [
            "(Num of examples, number of attributes) = (19272, 14)\n",
            "[[8.38384380e+03 8.31591237e+03 6.65000000e+01 1.74000000e+02\n",
            "  5.00000000e+00 1.88000000e+03 3.03961196e+01 3.70000000e+00\n",
            "  8.26000000e+02 1.24000000e+03 1.97000000e+02 2.00000000e+00\n",
            "  6.70115727e+01 2.80875800e-02]\n",
            " [8.39858668e+03 8.43240018e+03 6.50000000e+01 1.90000000e+02\n",
            "  5.00000000e+00 1.61700000e+03 2.90931990e+01 3.70000000e+00\n",
            "  6.63000000e+02 1.09200000e+03 1.47000000e+02 1.00000000e+00\n",
            "  6.74648161e+01 2.86838800e-02]\n",
            " [8.51384077e+03 8.34855467e+03 6.90000000e+01 1.73000000e+02\n",
            "  5.00000000e+00 1.91300000e+03 3.18780203e+01 3.60000000e+00\n",
            "  7.16000000e+02 1.33600000e+03 2.31000000e+02 1.00000000e+00\n",
            "  6.72991887e+01 2.97688200e-02]]\n"
          ]
        },
        {
          "output_type": "display_data",
          "data": {
            "text/plain": [
              "<Figure size 640x480 with 1 Axes>"
            ],
            "image/png": "[encoded data removed]"
          },
          "metadata": {}
        }
      ]
    },
    {
      "cell_type": "markdown",
      "metadata": {
        "id": "NabsV8O5BBd5"
      },
      "source": [
        "## Dataloading"
      ]
    },
    {
      "cell_type": "code",
      "source": [
        "data[:,1].reshape(-1,1).shape"
      ],
      "metadata": {
        "colab": {
          "base_uri": "https://localhost:8080/"
        },
        "id": "RFaT6ud0yVbh",
        "outputId": "51702945-8284-42c7-d037-10d5e914634a"
      },
      "execution_count": 403,
      "outputs": [
        {
          "output_type": "execute_result",
          "data": {
            "text/plain": [
              "(19272, 1)"
            ]
          },
          "metadata": {},
          "execution_count": 403
        }
      ]
    },
    {
      "cell_type": "code",
      "metadata": {
        "id": "vIWvJCpOVmwU",
        "colab": {
          "base_uri": "https://localhost:8080/"
        },
        "outputId": "9bef63dc-8e2e-4268-f1d9-a6f83cdc1c66"
      },
      "source": [
        "def sliding_windows(data, seq_length=1):\n",
        "    x = []\n",
        "    y = []\n",
        "\n",
        "    # przykładowo: seq_lenght = 7, pred_length = 3, wtedy:\n",
        "    for i in range(0, len(data) - seq_length - pred_length, pred_length):  # dla i = 0:\n",
        "        _x = data[i:(i+seq_length), :]                      # _x = data[0:7, wszystkie cechy],  potem data[3:10,:]\n",
        "        _y = data[i+seq_length:i+seq_length+pred_length, 0] # _y = data[7:10, open_price] ,    potem data[10:13,1]\n",
        "        x.append(_x)\n",
        "        y.append(_y)\n",
        "\n",
        "    return np.array(x),np.array(y)\n",
        "\n",
        "sc = MinMaxScaler()\n",
        "outSc = MinMaxScaler()\n",
        "outSc.fit_transform(data[:,1].reshape(-1,1))\n",
        "data = sc.fit_transform(data) #normalizacja danych\n",
        "x, y = sliding_windows(data, seq_length)  #tworzenie ramek uczących i odpowiedzi\n",
        "\n",
        "print(f\"x.shape = {x.shape}, y.shape = {y.shape}\")                "
      ],
      "execution_count": 404,
      "outputs": [
        {
          "output_type": "stream",
          "name": "stdout",
          "text": [
            "x.shape = (800, 48, 14), y.shape = (800, 24)\n"
          ]
        }
      ]
    },
    {
      "cell_type": "code",
      "source": [
        "train_size = int(len(y) * train_perc)\n",
        "test_size = int((len(y) - train_size)/2)\n",
        "eval_size = test_size\n",
        "\n",
        "device = \"cuda\" if torch.cuda.is_available() else \"cpu\"\n",
        "\n",
        "dataX = Variable(torch.Tensor(np.array(x)))\n",
        "dataY = Variable(torch.Tensor(np.array(y)))\n",
        "dataX = dataX.to(device)\n",
        "dataY = dataY.to(device) \n",
        "\n",
        "dataset = TensorDataset(dataX, dataY)\n",
        "\n",
        "indices = torch.randperm(len(dataset)-test_size)"
      ],
      "metadata": {
        "id": "doIn6RnEZMlJ"
      },
      "execution_count": 405,
      "outputs": []
    },
    {
      "cell_type": "markdown",
      "source": [
        "### Losowanie próbek do zbioru uczącego i walidacyjnego"
      ],
      "metadata": {
        "id": "JaV5ZizseOJo"
      }
    },
    {
      "cell_type": "code",
      "source": [
        "train_indices = indices[:train_size]\n",
        "eval_indices = indices[train_size:train_size+eval_size]\n",
        "test_indices = torch.arange(train_size+eval_size, dataX.size(0))"
      ],
      "metadata": {
        "id": "xEiVHULCUmZ3"
      },
      "execution_count": 406,
      "outputs": []
    },
    {
      "cell_type": "code",
      "source": [
        "train_indices.shape, eval_indices.shape, test_indices.shape"
      ],
      "metadata": {
        "colab": {
          "base_uri": "https://localhost:8080/"
        },
        "id": "-sgWhPnao5zz",
        "outputId": "b0439604-45f0-41cc-efa5-672e49e8cb47"
      },
      "execution_count": 407,
      "outputs": [
        {
          "output_type": "execute_result",
          "data": {
            "text/plain": [
              "(torch.Size([480]), torch.Size([160]), torch.Size([160]))"
            ]
          },
          "metadata": {},
          "execution_count": 407
        }
      ]
    },
    {
      "cell_type": "markdown",
      "source": [
        "### Tworzenie dataloaderów"
      ],
      "metadata": {
        "id": "yWmjRN8MZ_Zr"
      }
    },
    {
      "cell_type": "code",
      "source": [
        "trainDataLoader = DataLoader(dataset, batch_size=batch_size, sampler=torch.utils.data.SubsetRandomSampler(train_indices))\n",
        "evalDataLoader = DataLoader(dataset, batch_size=batch_size, sampler=torch.utils.data.SubsetRandomSampler(eval_indices))\n",
        "testDataLoader = DataLoader(dataset, batch_size=batch_size, sampler=torch.utils.data.SubsetRandomSampler(test_indices))"
      ],
      "metadata": {
        "id": "EIynXxYRdpGe"
      },
      "execution_count": 408,
      "outputs": []
    },
    {
      "cell_type": "code",
      "source": [
        "features, labels = next(iter(trainDataLoader))\n",
        "features.shape, labels.shape, features.device, labels.device"
      ],
      "metadata": {
        "colab": {
          "base_uri": "https://localhost:8080/"
        },
        "id": "0e_61WEke4ja",
        "outputId": "84c7636c-10c3-467a-938a-2ccd6b276385"
      },
      "execution_count": 409,
      "outputs": [
        {
          "output_type": "execute_result",
          "data": {
            "text/plain": [
              "(torch.Size([32, 48, 14]),\n",
              " torch.Size([32, 24]),\n",
              " device(type='cuda', index=0),\n",
              " device(type='cuda', index=0))"
            ]
          },
          "metadata": {},
          "execution_count": 409
        }
      ]
    },
    {
      "cell_type": "markdown",
      "metadata": {
        "id": "--1LVbHOBSIy"
      },
      "source": [
        "## Model"
      ]
    },
    {
      "cell_type": "code",
      "metadata": {
        "id": "_BcDEjcABRVz"
      },
      "source": [
        "class LSTM(nn.Module):\n",
        "\n",
        "    def __init__(self, pred_length, input_size, hidden_size, num_lstm_layers):\n",
        "        super(LSTM, self).__init__()\n",
        "        \n",
        "        self.num_classes = pred_length\n",
        "        self.num_lstm_layers = num_lstm_layers\n",
        "        self.input_size = input_size\n",
        "        self.hidden_size = hidden_size\n",
        "        self.seq_length = seq_length\n",
        "        \n",
        "        self.lstm = nn.LSTM(input_size=input_size, hidden_size=hidden_size,\n",
        "                            num_layers=num_lstm_layers, batch_first=True)\n",
        "        self.fc = nn.Linear(self.hidden_size, self.num_classes)\n",
        "\n",
        "    def forward(self, x):\n",
        "        h_0 = Variable(torch.zeros(\n",
        "            self.num_lstm_layers, x.size(0), self.hidden_size).cuda())\n",
        "\n",
        "        c_0 = Variable(torch.zeros(\n",
        "            self.num_lstm_layers, x.size(0), self.hidden_size).cuda())\n",
        "        \n",
        "        # Propagate input through LSTM\n",
        "        output, (hn, cn) = self.lstm(x, (h_0, c_0))\n",
        "        \n",
        "        # Reshape for dense layer\n",
        "        out = output[:, -1, :]\n",
        "        \n",
        "        out = self.fc(out)\n",
        "        \n",
        "        return out"
      ],
      "execution_count": 410,
      "outputs": []
    },
    {
      "cell_type": "markdown",
      "metadata": {
        "id": "tdzFI5GJBUF5"
      },
      "source": [
        "## Training"
      ]
    },
    {
      "cell_type": "code",
      "source": [
        "!git clone https://gist.github.com/NTT123/4596e5533e573c8ceab2f319ab5d36a2 jslog\n",
        "import random\n",
        "import math\n",
        "import time\n",
        "from jslog.jslogger import JSLogger\n",
        "\n",
        "logger = JSLogger('train/test loss', ['train', 'test'])"
      ],
      "metadata": {
        "colab": {
          "base_uri": "https://localhost:8080/"
        },
        "id": "uPWjPfkzEWfz",
        "outputId": "58e7ee5f-f2b4-4a0e-84e0-668f477a7560"
      },
      "execution_count": 411,
      "outputs": [
        {
          "output_type": "stream",
          "name": "stdout",
          "text": [
            "fatal: destination path 'jslog' already exists and is not an empty directory.\n"
          ]
        }
      ]
    },
    {
      "cell_type": "code",
      "metadata": {
        "id": "a2vvHeFgVtCp",
        "colab": {
          "base_uri": "https://localhost:8080/",
          "height": 335,
          "referenced_widgets": [
            "e555be6c4a454289927fdbe2ab1103d2",
            "bf267d525a6d4cf88a53f742ae4c2826",
            "23a87bca70324e68bd0143880ff081c3",
            "ee836c58c8ef43a1b240342ee8ced3ae",
            "addcfc6d57e34f0890579fefba51c851",
            "43d6175a90cc4e238c136f55f7270dae",
            "51c8efbef7be40c08767e739f3887250",
            "45397cf817e14cc98d2c8faf4247b726",
            "b3db8bccb9424ae0827d42af47c59cde",
            "fc58eb35eb944de1b5fce7ac994a6e98",
            "59e90326df6f417f9cae66cd5d142eba"
          ]
        },
        "outputId": "31de6daf-5235-4d63-ee09-79f4a6347b89"
      },
      "source": [
        "%%time\n",
        "logger.show()\n",
        "lstm = LSTM(pred_length, input_size, hidden_size, num_lstm_layers)\n",
        "lstm.to(device)\n",
        "criterion = torch.nn.MSELoss()    # mean-squared error for regression\n",
        "optimizer = torch.optim.Adam(lstm.parameters(), lr=learning_rate)\n",
        "\n",
        "# Train the model\n",
        "for epoch in tqdm(range(num_epochs)):\n",
        "    #uczenie modelu\n",
        "    lstm.train()\n",
        "    for inputs, labels in trainDataLoader:\n",
        "        optimizer.zero_grad()\n",
        "        outputs = lstm(inputs)\n",
        "        loss = criterion(outputs, labels)\n",
        "        loss.backward()\n",
        "        optimizer.step()\n",
        "        train_loss = loss.item()\n",
        "\n",
        "    # ewaluacja modelu\n",
        "    lstm.eval()\n",
        "    with torch.inference_mode():\n",
        "        for inputs, labels in evalDataLoader:\n",
        "            outputs = lstm(inputs)\n",
        "            loss = criterion(outputs, labels)\n",
        "            eval_loss = loss.item()\n",
        "\n",
        "    # wykres funkcji straty dla zbioru treningowego i ewaluacyjnego\n",
        "    logger.log(epoch, {'train': train_loss, 'test': eval_loss})\n",
        "    # !clear\n",
        "    # plt.plot(train_loss, label='Train')\n",
        "    # plt.plot(eval_loss, label='Eval')\n",
        "    # plt.legend()\n",
        "    # plt.title('Loss over epochs')\n",
        "    # plt.xlabel('Epoch')\n",
        "    # plt.ylabel('Loss')\n",
        "    # plt.show()\n",
        "\n",
        "    # outputs = lstm(trainX)\n",
        "    # optimizer.zero_grad()\n",
        "    # if first == True:\n",
        "    #   print(outputs.shape)\n",
        "    #   first = False\n",
        "    # # obtain the loss function\n",
        "    \n",
        "    # trainY = trainY.reshape(-1, pred_length)\n",
        "    # loss = criterion(outputs, trainY)\n",
        "    \n",
        "    # loss.backward()\n",
        "    \n",
        "    # optimizer.step()\n",
        "    # if epoch % 10 == 0:\n",
        "    #   print(\"Epoch: %d, loss: %1.8f\" % (epoch, loss.item()))\n",
        "\n",
        "# print(outputs.shape)\n",
        "# print(trainY.shape)"
      ],
      "execution_count": 412,
      "outputs": [
        {
          "output_type": "display_data",
          "data": {
            "text/plain": [
              "<IPython.core.display.HTML object>"
            ],
            "text/html": [
              "\n",
              "            <script src=\"https://cdn.jsdelivr.net/npm/chart.js@2.9.3/dist/Chart.min.js\"></script>\n",
              "            <div class=\"chart-container\" style=\"height:250px; width:500px;\"><canvas id=\"1489843813\"></canvas></div>\n",
              "            <script>\n",
              "            var ctx_1489843813 = document.getElementById('1489843813').getContext('2d');\n",
              "            ctx_1489843813.canvas.width = 500;\n",
              "\t\t    ctx_1489843813.canvas.height = 250;\n",
              "\n",
              "            var myLineChart_1489843813 = new Chart(ctx_1489843813, {\n",
              "            type: 'line',\n",
              "            data: {labels: [],datasets: [\n",
              "            {\n",
              "                data: [], \n",
              "                label: \"train\",\n",
              "                borderColor: \"#4dc9f6\",\n",
              "                borderWidth: 1.5, \n",
              "                pointRadius: 0, \n",
              "                lineTension: 0,\n",
              "                backgroundColor: 'rgba(0, 0, 0, 0)',\n",
              "                fill: false\n",
              "            }\n",
              "            , \n",
              "            {\n",
              "                data: [], \n",
              "                label: \"test\",\n",
              "                borderColor: \"#f67019\",\n",
              "                borderWidth: 1.5, \n",
              "                pointRadius: 0, \n",
              "                lineTension: 0,\n",
              "                backgroundColor: 'rgba(0, 0, 0, 0)',\n",
              "                fill: false\n",
              "            }\n",
              "            ]},\n",
              "            options: {\n",
              "                tooltips: {intersect: false,mode: 'index'},\n",
              "\t\t\t\tanimation: {duration: 0},\n",
              "                title: {display: true,text: 'train/test loss'} } });\n",
              "            function addData(chart, label, data) {\n",
              "                chart.data.labels.push(label);\n",
              "                chart.data.datasets.forEach((dataset, i) => {\n",
              "                    dataset.data.push(data[i]);\n",
              "                });\n",
              "                chart.update();\n",
              "            }\n",
              "            </script>\n",
              "        "
            ]
          },
          "metadata": {}
        },
        {
          "output_type": "display_data",
          "data": {
            "text/plain": [
              "  0%|          | 0/100 [00:00<?, ?it/s]"
            ],
            "application/vnd.jupyter.widget-view+json": {
              "version_major": 2,
              "version_minor": 0,
              "model_id": "e555be6c4a454289927fdbe2ab1103d2"
            }
          },
          "metadata": {}
        },
        {
          "output_type": "display_data",
          "data": {
            "text/plain": [
              "<IPython.core.display.Javascript object>"
            ],
            "application/javascript": [
              "\n",
              "            addData(myLineChart_1489843813, 0, [0.06449544429779053, 0.14233623445034027]);    \n",
              "        "
            ]
          },
          "metadata": {}
        },
        {
          "output_type": "display_data",
          "data": {
            "text/plain": [
              "<IPython.core.display.Javascript object>"
            ],
            "application/javascript": [
              "\n",
              "            addData(myLineChart_1489843813, 1, [0.07526621967554092, 0.06382660567760468]);    \n",
              "        "
            ]
          },
          "metadata": {}
        },
        {
          "output_type": "display_data",
          "data": {
            "text/plain": [
              "<IPython.core.display.Javascript object>"
            ],
            "application/javascript": [
              "\n",
              "            addData(myLineChart_1489843813, 2, [0.06826909631490707, 0.058681365102529526]);    \n",
              "        "
            ]
          },
          "metadata": {}
        },
        {
          "output_type": "display_data",
          "data": {
            "text/plain": [
              "<IPython.core.display.Javascript object>"
            ],
            "application/javascript": [
              "\n",
              "            addData(myLineChart_1489843813, 3, [0.03556805104017258, 0.04762887954711914]);    \n",
              "        "
            ]
          },
          "metadata": {}
        },
        {
          "output_type": "display_data",
          "data": {
            "text/plain": [
              "<IPython.core.display.Javascript object>"
            ],
            "application/javascript": [
              "\n",
              "            addData(myLineChart_1489843813, 4, [0.013673504814505577, 0.013898588716983795]);    \n",
              "        "
            ]
          },
          "metadata": {}
        },
        {
          "output_type": "display_data",
          "data": {
            "text/plain": [
              "<IPython.core.display.Javascript object>"
            ],
            "application/javascript": [
              "\n",
              "            addData(myLineChart_1489843813, 5, [0.005216534249484539, 0.004202055744826794]);    \n",
              "        "
            ]
          },
          "metadata": {}
        },
        {
          "output_type": "display_data",
          "data": {
            "text/plain": [
              "<IPython.core.display.Javascript object>"
            ],
            "application/javascript": [
              "\n",
              "            addData(myLineChart_1489843813, 6, [0.004241601098328829, 0.0034870142117142677]);    \n",
              "        "
            ]
          },
          "metadata": {}
        },
        {
          "output_type": "display_data",
          "data": {
            "text/plain": [
              "<IPython.core.display.Javascript object>"
            ],
            "application/javascript": [
              "\n",
              "            addData(myLineChart_1489843813, 7, [0.003226215485483408, 0.0029052782338112593]);    \n",
              "        "
            ]
          },
          "metadata": {}
        },
        {
          "output_type": "display_data",
          "data": {
            "text/plain": [
              "<IPython.core.display.Javascript object>"
            ],
            "application/javascript": [
              "\n",
              "            addData(myLineChart_1489843813, 8, [0.0032593009527772665, 0.0037218406796455383]);    \n",
              "        "
            ]
          },
          "metadata": {}
        },
        {
          "output_type": "display_data",
          "data": {
            "text/plain": [
              "<IPython.core.display.Javascript object>"
            ],
            "application/javascript": [
              "\n",
              "            addData(myLineChart_1489843813, 9, [0.00282988790422678, 0.002459965879097581]);    \n",
              "        "
            ]
          },
          "metadata": {}
        },
        {
          "output_type": "display_data",
          "data": {
            "text/plain": [
              "<IPython.core.display.Javascript object>"
            ],
            "application/javascript": [
              "\n",
              "            addData(myLineChart_1489843813, 10, [0.0025589994620531797, 0.0018433876102790236]);    \n",
              "        "
            ]
          },
          "metadata": {}
        },
        {
          "output_type": "display_data",
          "data": {
            "text/plain": [
              "<IPython.core.display.Javascript object>"
            ],
            "application/javascript": [
              "\n",
              "            addData(myLineChart_1489843813, 11, [0.0018191611161455512, 0.002432236447930336]);    \n",
              "        "
            ]
          },
          "metadata": {}
        },
        {
          "output_type": "display_data",
          "data": {
            "text/plain": [
              "<IPython.core.display.Javascript object>"
            ],
            "application/javascript": [
              "\n",
              "            addData(myLineChart_1489843813, 12, [0.0016142148524522781, 0.001480977749451995]);    \n",
              "        "
            ]
          },
          "metadata": {}
        },
        {
          "output_type": "display_data",
          "data": {
            "text/plain": [
              "<IPython.core.display.Javascript object>"
            ],
            "application/javascript": [
              "\n",
              "            addData(myLineChart_1489843813, 13, [0.0013321678852662444, 0.001146914204582572]);    \n",
              "        "
            ]
          },
          "metadata": {}
        },
        {
          "output_type": "display_data",
          "data": {
            "text/plain": [
              "<IPython.core.display.Javascript object>"
            ],
            "application/javascript": [
              "\n",
              "            addData(myLineChart_1489843813, 14, [0.0016536079347133636, 0.0014663994079455733]);    \n",
              "        "
            ]
          },
          "metadata": {}
        },
        {
          "output_type": "display_data",
          "data": {
            "text/plain": [
              "<IPython.core.display.Javascript object>"
            ],
            "application/javascript": [
              "\n",
              "            addData(myLineChart_1489843813, 15, [0.0009274970507249236, 0.000977303134277463]);    \n",
              "        "
            ]
          },
          "metadata": {}
        },
        {
          "output_type": "display_data",
          "data": {
            "text/plain": [
              "<IPython.core.display.Javascript object>"
            ],
            "application/javascript": [
              "\n",
              "            addData(myLineChart_1489843813, 16, [0.0009879685239866376, 0.0014661364257335663]);    \n",
              "        "
            ]
          },
          "metadata": {}
        },
        {
          "output_type": "display_data",
          "data": {
            "text/plain": [
              "<IPython.core.display.Javascript object>"
            ],
            "application/javascript": [
              "\n",
              "            addData(myLineChart_1489843813, 17, [0.0012702709063887596, 0.0007975311018526554]);    \n",
              "        "
            ]
          },
          "metadata": {}
        },
        {
          "output_type": "display_data",
          "data": {
            "text/plain": [
              "<IPython.core.display.Javascript object>"
            ],
            "application/javascript": [
              "\n",
              "            addData(myLineChart_1489843813, 18, [0.0006869382923468947, 0.0005249468376860023]);    \n",
              "        "
            ]
          },
          "metadata": {}
        },
        {
          "output_type": "display_data",
          "data": {
            "text/plain": [
              "<IPython.core.display.Javascript object>"
            ],
            "application/javascript": [
              "\n",
              "            addData(myLineChart_1489843813, 19, [0.0007015877636149526, 0.0009069186635315418]);    \n",
              "        "
            ]
          },
          "metadata": {}
        },
        {
          "output_type": "display_data",
          "data": {
            "text/plain": [
              "<IPython.core.display.Javascript object>"
            ],
            "application/javascript": [
              "\n",
              "            addData(myLineChart_1489843813, 20, [0.0004948584828525782, 0.0003594505542423576]);    \n",
              "        "
            ]
          },
          "metadata": {}
        },
        {
          "output_type": "display_data",
          "data": {
            "text/plain": [
              "<IPython.core.display.Javascript object>"
            ],
            "application/javascript": [
              "\n",
              "            addData(myLineChart_1489843813, 21, [0.0007188138552010059, 0.00028050082619301975]);    \n",
              "        "
            ]
          },
          "metadata": {}
        },
        {
          "output_type": "display_data",
          "data": {
            "text/plain": [
              "<IPython.core.display.Javascript object>"
            ],
            "application/javascript": [
              "\n",
              "            addData(myLineChart_1489843813, 22, [0.0005826256237924099, 0.00032540105166845024]);    \n",
              "        "
            ]
          },
          "metadata": {}
        },
        {
          "output_type": "display_data",
          "data": {
            "text/plain": [
              "<IPython.core.display.Javascript object>"
            ],
            "application/javascript": [
              "\n",
              "            addData(myLineChart_1489843813, 23, [0.0006085515487939119, 0.0005457466468214989]);    \n",
              "        "
            ]
          },
          "metadata": {}
        },
        {
          "output_type": "display_data",
          "data": {
            "text/plain": [
              "<IPython.core.display.Javascript object>"
            ],
            "application/javascript": [
              "\n",
              "            addData(myLineChart_1489843813, 24, [0.0009467757190577686, 0.0003791188355535269]);    \n",
              "        "
            ]
          },
          "metadata": {}
        },
        {
          "output_type": "display_data",
          "data": {
            "text/plain": [
              "<IPython.core.display.Javascript object>"
            ],
            "application/javascript": [
              "\n",
              "            addData(myLineChart_1489843813, 25, [0.0008041498949751258, 0.00038363487692549825]);    \n",
              "        "
            ]
          },
          "metadata": {}
        },
        {
          "output_type": "display_data",
          "data": {
            "text/plain": [
              "<IPython.core.display.Javascript object>"
            ],
            "application/javascript": [
              "\n",
              "            addData(myLineChart_1489843813, 26, [0.0005633876426145434, 0.0005531235947273672]);    \n",
              "        "
            ]
          },
          "metadata": {}
        },
        {
          "output_type": "display_data",
          "data": {
            "text/plain": [
              "<IPython.core.display.Javascript object>"
            ],
            "application/javascript": [
              "\n",
              "            addData(myLineChart_1489843813, 27, [0.0002849431475624442, 0.0003481286985334009]);    \n",
              "        "
            ]
          },
          "metadata": {}
        },
        {
          "output_type": "display_data",
          "data": {
            "text/plain": [
              "<IPython.core.display.Javascript object>"
            ],
            "application/javascript": [
              "\n",
              "            addData(myLineChart_1489843813, 28, [0.0011381779331713915, 0.0002649724774528295]);    \n",
              "        "
            ]
          },
          "metadata": {}
        },
        {
          "output_type": "display_data",
          "data": {
            "text/plain": [
              "<IPython.core.display.Javascript object>"
            ],
            "application/javascript": [
              "\n",
              "            addData(myLineChart_1489843813, 29, [0.00031670936732552946, 0.0002628521469887346]);    \n",
              "        "
            ]
          },
          "metadata": {}
        },
        {
          "output_type": "display_data",
          "data": {
            "text/plain": [
              "<IPython.core.display.Javascript object>"
            ],
            "application/javascript": [
              "\n",
              "            addData(myLineChart_1489843813, 30, [0.0005082531715743244, 0.0005353183369152248]);    \n",
              "        "
            ]
          },
          "metadata": {}
        },
        {
          "output_type": "display_data",
          "data": {
            "text/plain": [
              "<IPython.core.display.Javascript object>"
            ],
            "application/javascript": [
              "\n",
              "            addData(myLineChart_1489843813, 31, [0.0008857169887050986, 0.0005148460040800273]);    \n",
              "        "
            ]
          },
          "metadata": {}
        },
        {
          "output_type": "display_data",
          "data": {
            "text/plain": [
              "<IPython.core.display.Javascript object>"
            ],
            "application/javascript": [
              "\n",
              "            addData(myLineChart_1489843813, 32, [0.00027223059441894293, 0.000170676430570893]);    \n",
              "        "
            ]
          },
          "metadata": {}
        },
        {
          "output_type": "display_data",
          "data": {
            "text/plain": [
              "<IPython.core.display.Javascript object>"
            ],
            "application/javascript": [
              "\n",
              "            addData(myLineChart_1489843813, 33, [0.0003713460173457861, 0.0004709720378741622]);    \n",
              "        "
            ]
          },
          "metadata": {}
        },
        {
          "output_type": "display_data",
          "data": {
            "text/plain": [
              "<IPython.core.display.Javascript object>"
            ],
            "application/javascript": [
              "\n",
              "            addData(myLineChart_1489843813, 34, [0.0009161955676972866, 0.0003033911343663931]);    \n",
              "        "
            ]
          },
          "metadata": {}
        },
        {
          "output_type": "display_data",
          "data": {
            "text/plain": [
              "<IPython.core.display.Javascript object>"
            ],
            "application/javascript": [
              "\n",
              "            addData(myLineChart_1489843813, 35, [0.0002751676074694842, 0.0005333361914381385]);    \n",
              "        "
            ]
          },
          "metadata": {}
        },
        {
          "output_type": "display_data",
          "data": {
            "text/plain": [
              "<IPython.core.display.Javascript object>"
            ],
            "application/javascript": [
              "\n",
              "            addData(myLineChart_1489843813, 36, [0.0004231416096445173, 0.0002766574907582253]);    \n",
              "        "
            ]
          },
          "metadata": {}
        },
        {
          "output_type": "display_data",
          "data": {
            "text/plain": [
              "<IPython.core.display.Javascript object>"
            ],
            "application/javascript": [
              "\n",
              "            addData(myLineChart_1489843813, 37, [0.00036744331009685993, 0.00017681156168691814]);    \n",
              "        "
            ]
          },
          "metadata": {}
        },
        {
          "output_type": "display_data",
          "data": {
            "text/plain": [
              "<IPython.core.display.Javascript object>"
            ],
            "application/javascript": [
              "\n",
              "            addData(myLineChart_1489843813, 38, [0.00019893339776899666, 0.0005130839999765158]);    \n",
              "        "
            ]
          },
          "metadata": {}
        },
        {
          "output_type": "display_data",
          "data": {
            "text/plain": [
              "<IPython.core.display.Javascript object>"
            ],
            "application/javascript": [
              "\n",
              "            addData(myLineChart_1489843813, 39, [0.00047923665260896087, 0.0005724793882109225]);    \n",
              "        "
            ]
          },
          "metadata": {}
        },
        {
          "output_type": "display_data",
          "data": {
            "text/plain": [
              "<IPython.core.display.Javascript object>"
            ],
            "application/javascript": [
              "\n",
              "            addData(myLineChart_1489843813, 40, [0.00028979667695239186, 0.0003401290741749108]);    \n",
              "        "
            ]
          },
          "metadata": {}
        },
        {
          "output_type": "display_data",
          "data": {
            "text/plain": [
              "<IPython.core.display.Javascript object>"
            ],
            "application/javascript": [
              "\n",
              "            addData(myLineChart_1489843813, 41, [0.0004418583994265646, 0.001051338855177164]);    \n",
              "        "
            ]
          },
          "metadata": {}
        },
        {
          "output_type": "display_data",
          "data": {
            "text/plain": [
              "<IPython.core.display.Javascript object>"
            ],
            "application/javascript": [
              "\n",
              "            addData(myLineChart_1489843813, 42, [0.0005423962138593197, 0.0003543446946423501]);    \n",
              "        "
            ]
          },
          "metadata": {}
        },
        {
          "output_type": "display_data",
          "data": {
            "text/plain": [
              "<IPython.core.display.Javascript object>"
            ],
            "application/javascript": [
              "\n",
              "            addData(myLineChart_1489843813, 43, [0.00016984644753392786, 0.00028930819826200604]);    \n",
              "        "
            ]
          },
          "metadata": {}
        },
        {
          "output_type": "display_data",
          "data": {
            "text/plain": [
              "<IPython.core.display.Javascript object>"
            ],
            "application/javascript": [
              "\n",
              "            addData(myLineChart_1489843813, 44, [0.0002986616163980216, 0.00035806625965051353]);    \n",
              "        "
            ]
          },
          "metadata": {}
        },
        {
          "output_type": "display_data",
          "data": {
            "text/plain": [
              "<IPython.core.display.Javascript object>"
            ],
            "application/javascript": [
              "\n",
              "            addData(myLineChart_1489843813, 45, [0.0006041297456249595, 0.0007375478744506836]);    \n",
              "        "
            ]
          },
          "metadata": {}
        },
        {
          "output_type": "display_data",
          "data": {
            "text/plain": [
              "<IPython.core.display.Javascript object>"
            ],
            "application/javascript": [
              "\n",
              "            addData(myLineChart_1489843813, 46, [0.00026581797283142805, 0.00036157562863081694]);    \n",
              "        "
            ]
          },
          "metadata": {}
        },
        {
          "output_type": "display_data",
          "data": {
            "text/plain": [
              "<IPython.core.display.Javascript object>"
            ],
            "application/javascript": [
              "\n",
              "            addData(myLineChart_1489843813, 47, [0.0007500023930333555, 0.00030896117095835507]);    \n",
              "        "
            ]
          },
          "metadata": {}
        },
        {
          "output_type": "display_data",
          "data": {
            "text/plain": [
              "<IPython.core.display.Javascript object>"
            ],
            "application/javascript": [
              "\n",
              "            addData(myLineChart_1489843813, 48, [0.0003896477574016899, 0.00020528081222437322]);    \n",
              "        "
            ]
          },
          "metadata": {}
        },
        {
          "output_type": "display_data",
          "data": {
            "text/plain": [
              "<IPython.core.display.Javascript object>"
            ],
            "application/javascript": [
              "\n",
              "            addData(myLineChart_1489843813, 49, [0.00044519640505313873, 0.0006534822750836611]);    \n",
              "        "
            ]
          },
          "metadata": {}
        },
        {
          "output_type": "display_data",
          "data": {
            "text/plain": [
              "<IPython.core.display.Javascript object>"
            ],
            "application/javascript": [
              "\n",
              "            addData(myLineChart_1489843813, 50, [0.00014139374252408743, 0.00026766263181343675]);    \n",
              "        "
            ]
          },
          "metadata": {}
        },
        {
          "output_type": "display_data",
          "data": {
            "text/plain": [
              "<IPython.core.display.Javascript object>"
            ],
            "application/javascript": [
              "\n",
              "            addData(myLineChart_1489843813, 51, [0.000729493738617748, 0.0004560808592941612]);    \n",
              "        "
            ]
          },
          "metadata": {}
        },
        {
          "output_type": "display_data",
          "data": {
            "text/plain": [
              "<IPython.core.display.Javascript object>"
            ],
            "application/javascript": [
              "\n",
              "            addData(myLineChart_1489843813, 52, [0.00031797090196050704, 0.0003077767032664269]);    \n",
              "        "
            ]
          },
          "metadata": {}
        },
        {
          "output_type": "display_data",
          "data": {
            "text/plain": [
              "<IPython.core.display.Javascript object>"
            ],
            "application/javascript": [
              "\n",
              "            addData(myLineChart_1489843813, 53, [0.0003793739597313106, 0.00047182454727590084]);    \n",
              "        "
            ]
          },
          "metadata": {}
        },
        {
          "output_type": "display_data",
          "data": {
            "text/plain": [
              "<IPython.core.display.Javascript object>"
            ],
            "application/javascript": [
              "\n",
              "            addData(myLineChart_1489843813, 54, [0.00048515707021579146, 0.00021134635608177632]);    \n",
              "        "
            ]
          },
          "metadata": {}
        },
        {
          "output_type": "display_data",
          "data": {
            "text/plain": [
              "<IPython.core.display.Javascript object>"
            ],
            "application/javascript": [
              "\n",
              "            addData(myLineChart_1489843813, 55, [0.0001068444544216618, 0.00032128722523339093]);    \n",
              "        "
            ]
          },
          "metadata": {}
        },
        {
          "output_type": "display_data",
          "data": {
            "text/plain": [
              "<IPython.core.display.Javascript object>"
            ],
            "application/javascript": [
              "\n",
              "            addData(myLineChart_1489843813, 56, [0.0003601646167226136, 0.0003087774384766817]);    \n",
              "        "
            ]
          },
          "metadata": {}
        },
        {
          "output_type": "display_data",
          "data": {
            "text/plain": [
              "<IPython.core.display.Javascript object>"
            ],
            "application/javascript": [
              "\n",
              "            addData(myLineChart_1489843813, 57, [0.00042961566941812634, 0.00043386960169300437]);    \n",
              "        "
            ]
          },
          "metadata": {}
        },
        {
          "output_type": "display_data",
          "data": {
            "text/plain": [
              "<IPython.core.display.Javascript object>"
            ],
            "application/javascript": [
              "\n",
              "            addData(myLineChart_1489843813, 58, [0.0006286941934376955, 0.0002384912222623825]);    \n",
              "        "
            ]
          },
          "metadata": {}
        },
        {
          "output_type": "display_data",
          "data": {
            "text/plain": [
              "<IPython.core.display.Javascript object>"
            ],
            "application/javascript": [
              "\n",
              "            addData(myLineChart_1489843813, 59, [0.0006852541118860245, 0.0007351987878791988]);    \n",
              "        "
            ]
          },
          "metadata": {}
        },
        {
          "output_type": "display_data",
          "data": {
            "text/plain": [
              "<IPython.core.display.Javascript object>"
            ],
            "application/javascript": [
              "\n",
              "            addData(myLineChart_1489843813, 60, [0.0002910950861405581, 0.00023722098558209836]);    \n",
              "        "
            ]
          },
          "metadata": {}
        },
        {
          "output_type": "display_data",
          "data": {
            "text/plain": [
              "<IPython.core.display.Javascript object>"
            ],
            "application/javascript": [
              "\n",
              "            addData(myLineChart_1489843813, 61, [0.0005757532780990005, 0.00026147952303290367]);    \n",
              "        "
            ]
          },
          "metadata": {}
        },
        {
          "output_type": "display_data",
          "data": {
            "text/plain": [
              "<IPython.core.display.Javascript object>"
            ],
            "application/javascript": [
              "\n",
              "            addData(myLineChart_1489843813, 62, [0.00032273324904963374, 0.00039266730891540647]);    \n",
              "        "
            ]
          },
          "metadata": {}
        },
        {
          "output_type": "display_data",
          "data": {
            "text/plain": [
              "<IPython.core.display.Javascript object>"
            ],
            "application/javascript": [
              "\n",
              "            addData(myLineChart_1489843813, 63, [0.00045307137770578265, 0.0003588148101698607]);    \n",
              "        "
            ]
          },
          "metadata": {}
        },
        {
          "output_type": "display_data",
          "data": {
            "text/plain": [
              "<IPython.core.display.Javascript object>"
            ],
            "application/javascript": [
              "\n",
              "            addData(myLineChart_1489843813, 64, [0.00033100435393862426, 0.00023314799182116985]);    \n",
              "        "
            ]
          },
          "metadata": {}
        },
        {
          "output_type": "display_data",
          "data": {
            "text/plain": [
              "<IPython.core.display.Javascript object>"
            ],
            "application/javascript": [
              "\n",
              "            addData(myLineChart_1489843813, 65, [0.00013795035192742944, 0.0003700268571265042]);    \n",
              "        "
            ]
          },
          "metadata": {}
        },
        {
          "output_type": "display_data",
          "data": {
            "text/plain": [
              "<IPython.core.display.Javascript object>"
            ],
            "application/javascript": [
              "\n",
              "            addData(myLineChart_1489843813, 66, [0.00039525609463453293, 0.00020641993614844978]);    \n",
              "        "
            ]
          },
          "metadata": {}
        },
        {
          "output_type": "display_data",
          "data": {
            "text/plain": [
              "<IPython.core.display.Javascript object>"
            ],
            "application/javascript": [
              "\n",
              "            addData(myLineChart_1489843813, 67, [0.00020148596377111971, 0.0003178830666001886]);    \n",
              "        "
            ]
          },
          "metadata": {}
        },
        {
          "output_type": "display_data",
          "data": {
            "text/plain": [
              "<IPython.core.display.Javascript object>"
            ],
            "application/javascript": [
              "\n",
              "            addData(myLineChart_1489843813, 68, [0.00033836025977507234, 0.0004347038338892162]);    \n",
              "        "
            ]
          },
          "metadata": {}
        },
        {
          "output_type": "display_data",
          "data": {
            "text/plain": [
              "<IPython.core.display.Javascript object>"
            ],
            "application/javascript": [
              "\n",
              "            addData(myLineChart_1489843813, 69, [0.0001685037714196369, 0.000449382554506883]);    \n",
              "        "
            ]
          },
          "metadata": {}
        },
        {
          "output_type": "display_data",
          "data": {
            "text/plain": [
              "<IPython.core.display.Javascript object>"
            ],
            "application/javascript": [
              "\n",
              "            addData(myLineChart_1489843813, 70, [0.00011136072862427682, 0.00016135472105816007]);    \n",
              "        "
            ]
          },
          "metadata": {}
        },
        {
          "output_type": "display_data",
          "data": {
            "text/plain": [
              "<IPython.core.display.Javascript object>"
            ],
            "application/javascript": [
              "\n",
              "            addData(myLineChart_1489843813, 71, [0.0002230511454399675, 0.00025225148419849575]);    \n",
              "        "
            ]
          },
          "metadata": {}
        },
        {
          "output_type": "display_data",
          "data": {
            "text/plain": [
              "<IPython.core.display.Javascript object>"
            ],
            "application/javascript": [
              "\n",
              "            addData(myLineChart_1489843813, 72, [0.0004152129404246807, 0.00028194033075124025]);    \n",
              "        "
            ]
          },
          "metadata": {}
        },
        {
          "output_type": "display_data",
          "data": {
            "text/plain": [
              "<IPython.core.display.Javascript object>"
            ],
            "application/javascript": [
              "\n",
              "            addData(myLineChart_1489843813, 73, [0.00024197976745199412, 0.0002973765949718654]);    \n",
              "        "
            ]
          },
          "metadata": {}
        },
        {
          "output_type": "display_data",
          "data": {
            "text/plain": [
              "<IPython.core.display.Javascript object>"
            ],
            "application/javascript": [
              "\n",
              "            addData(myLineChart_1489843813, 74, [0.0004293376114219427, 0.0003670449950732291]);    \n",
              "        "
            ]
          },
          "metadata": {}
        },
        {
          "output_type": "display_data",
          "data": {
            "text/plain": [
              "<IPython.core.display.Javascript object>"
            ],
            "application/javascript": [
              "\n",
              "            addData(myLineChart_1489843813, 75, [0.00032256878330372274, 0.000304237735690549]);    \n",
              "        "
            ]
          },
          "metadata": {}
        },
        {
          "output_type": "display_data",
          "data": {
            "text/plain": [
              "<IPython.core.display.Javascript object>"
            ],
            "application/javascript": [
              "\n",
              "            addData(myLineChart_1489843813, 76, [0.00020476318604778498, 0.00046972098061814904]);    \n",
              "        "
            ]
          },
          "metadata": {}
        },
        {
          "output_type": "display_data",
          "data": {
            "text/plain": [
              "<IPython.core.display.Javascript object>"
            ],
            "application/javascript": [
              "\n",
              "            addData(myLineChart_1489843813, 77, [0.0012282059760764241, 0.00021071240189485252]);    \n",
              "        "
            ]
          },
          "metadata": {}
        },
        {
          "output_type": "display_data",
          "data": {
            "text/plain": [
              "<IPython.core.display.Javascript object>"
            ],
            "application/javascript": [
              "\n",
              "            addData(myLineChart_1489843813, 78, [0.0004116975178476423, 0.0004822482296731323]);    \n",
              "        "
            ]
          },
          "metadata": {}
        },
        {
          "output_type": "display_data",
          "data": {
            "text/plain": [
              "<IPython.core.display.Javascript object>"
            ],
            "application/javascript": [
              "\n",
              "            addData(myLineChart_1489843813, 79, [0.0007292949594557285, 0.00030930907814763486]);    \n",
              "        "
            ]
          },
          "metadata": {}
        },
        {
          "output_type": "display_data",
          "data": {
            "text/plain": [
              "<IPython.core.display.Javascript object>"
            ],
            "application/javascript": [
              "\n",
              "            addData(myLineChart_1489843813, 80, [0.0003912307438440621, 0.0003310294705443084]);    \n",
              "        "
            ]
          },
          "metadata": {}
        },
        {
          "output_type": "display_data",
          "data": {
            "text/plain": [
              "<IPython.core.display.Javascript object>"
            ],
            "application/javascript": [
              "\n",
              "            addData(myLineChart_1489843813, 81, [0.00023742565826978534, 0.00021635726443491876]);    \n",
              "        "
            ]
          },
          "metadata": {}
        },
        {
          "output_type": "display_data",
          "data": {
            "text/plain": [
              "<IPython.core.display.Javascript object>"
            ],
            "application/javascript": [
              "\n",
              "            addData(myLineChart_1489843813, 82, [0.00026802479987964034, 0.0003530873800627887]);    \n",
              "        "
            ]
          },
          "metadata": {}
        },
        {
          "output_type": "display_data",
          "data": {
            "text/plain": [
              "<IPython.core.display.Javascript object>"
            ],
            "application/javascript": [
              "\n",
              "            addData(myLineChart_1489843813, 83, [0.00020287951338104904, 0.0003246593405492604]);    \n",
              "        "
            ]
          },
          "metadata": {}
        },
        {
          "output_type": "display_data",
          "data": {
            "text/plain": [
              "<IPython.core.display.Javascript object>"
            ],
            "application/javascript": [
              "\n",
              "            addData(myLineChart_1489843813, 84, [0.00023931547184474766, 0.00025846780044957995]);    \n",
              "        "
            ]
          },
          "metadata": {}
        },
        {
          "output_type": "display_data",
          "data": {
            "text/plain": [
              "<IPython.core.display.Javascript object>"
            ],
            "application/javascript": [
              "\n",
              "            addData(myLineChart_1489843813, 85, [0.00014253884728532284, 0.0005807477864436805]);    \n",
              "        "
            ]
          },
          "metadata": {}
        },
        {
          "output_type": "display_data",
          "data": {
            "text/plain": [
              "<IPython.core.display.Javascript object>"
            ],
            "application/javascript": [
              "\n",
              "            addData(myLineChart_1489843813, 86, [0.0003905728808604181, 0.0004911009455099702]);    \n",
              "        "
            ]
          },
          "metadata": {}
        },
        {
          "output_type": "display_data",
          "data": {
            "text/plain": [
              "<IPython.core.display.Javascript object>"
            ],
            "application/javascript": [
              "\n",
              "            addData(myLineChart_1489843813, 87, [0.0004742564633488655, 0.0001786187494872138]);    \n",
              "        "
            ]
          },
          "metadata": {}
        },
        {
          "output_type": "display_data",
          "data": {
            "text/plain": [
              "<IPython.core.display.Javascript object>"
            ],
            "application/javascript": [
              "\n",
              "            addData(myLineChart_1489843813, 88, [0.00021514773834496737, 0.00023652668460272253]);    \n",
              "        "
            ]
          },
          "metadata": {}
        },
        {
          "output_type": "display_data",
          "data": {
            "text/plain": [
              "<IPython.core.display.Javascript object>"
            ],
            "application/javascript": [
              "\n",
              "            addData(myLineChart_1489843813, 89, [0.0005438973312266171, 0.00036470580380409956]);    \n",
              "        "
            ]
          },
          "metadata": {}
        },
        {
          "output_type": "display_data",
          "data": {
            "text/plain": [
              "<IPython.core.display.Javascript object>"
            ],
            "application/javascript": [
              "\n",
              "            addData(myLineChart_1489843813, 90, [0.0009686603443697095, 0.0003271295572631061]);    \n",
              "        "
            ]
          },
          "metadata": {}
        },
        {
          "output_type": "display_data",
          "data": {
            "text/plain": [
              "<IPython.core.display.Javascript object>"
            ],
            "application/javascript": [
              "\n",
              "            addData(myLineChart_1489843813, 91, [0.0006047809729352593, 0.0003123045898973942]);    \n",
              "        "
            ]
          },
          "metadata": {}
        },
        {
          "output_type": "display_data",
          "data": {
            "text/plain": [
              "<IPython.core.display.Javascript object>"
            ],
            "application/javascript": [
              "\n",
              "            addData(myLineChart_1489843813, 92, [0.0006895011174492538, 0.00030625489307567477]);    \n",
              "        "
            ]
          },
          "metadata": {}
        },
        {
          "output_type": "display_data",
          "data": {
            "text/plain": [
              "<IPython.core.display.Javascript object>"
            ],
            "application/javascript": [
              "\n",
              "            addData(myLineChart_1489843813, 93, [0.00031598424538969994, 0.0002271660923724994]);    \n",
              "        "
            ]
          },
          "metadata": {}
        },
        {
          "output_type": "display_data",
          "data": {
            "text/plain": [
              "<IPython.core.display.Javascript object>"
            ],
            "application/javascript": [
              "\n",
              "            addData(myLineChart_1489843813, 94, [0.00035176007077097893, 0.00036989510408602655]);    \n",
              "        "
            ]
          },
          "metadata": {}
        },
        {
          "output_type": "display_data",
          "data": {
            "text/plain": [
              "<IPython.core.display.Javascript object>"
            ],
            "application/javascript": [
              "\n",
              "            addData(myLineChart_1489843813, 95, [0.0002539678243920207, 0.0002267497475259006]);    \n",
              "        "
            ]
          },
          "metadata": {}
        },
        {
          "output_type": "display_data",
          "data": {
            "text/plain": [
              "<IPython.core.display.Javascript object>"
            ],
            "application/javascript": [
              "\n",
              "            addData(myLineChart_1489843813, 96, [0.0003148771356791258, 0.0003251092857681215]);    \n",
              "        "
            ]
          },
          "metadata": {}
        },
        {
          "output_type": "display_data",
          "data": {
            "text/plain": [
              "<IPython.core.display.Javascript object>"
            ],
            "application/javascript": [
              "\n",
              "            addData(myLineChart_1489843813, 97, [0.0005707783857360482, 0.0002245546056656167]);    \n",
              "        "
            ]
          },
          "metadata": {}
        },
        {
          "output_type": "display_data",
          "data": {
            "text/plain": [
              "<IPython.core.display.Javascript object>"
            ],
            "application/javascript": [
              "\n",
              "            addData(myLineChart_1489843813, 98, [0.000340794213116169, 0.0005208621150813997]);    \n",
              "        "
            ]
          },
          "metadata": {}
        },
        {
          "output_type": "display_data",
          "data": {
            "text/plain": [
              "<IPython.core.display.Javascript object>"
            ],
            "application/javascript": [
              "\n",
              "            addData(myLineChart_1489843813, 99, [0.0002424650447210297, 0.0002821708330884576]);    \n",
              "        "
            ]
          },
          "metadata": {}
        },
        {
          "output_type": "stream",
          "name": "stdout",
          "text": [
            "CPU times: user 13.5 s, sys: 193 ms, total: 13.7 s\n",
            "Wall time: 14.2 s\n"
          ]
        }
      ]
    },
    {
      "cell_type": "markdown",
      "metadata": {
        "id": "35ndYIwIKteS"
      },
      "source": [
        "# Testing"
      ]
    },
    {
      "cell_type": "markdown",
      "source": [],
      "metadata": {
        "id": "5pAk93TJpiT4"
      }
    },
    {
      "cell_type": "code",
      "source": [
        "lstm.eval()\n",
        "dataX.to('cpu')\n",
        "with torch.inference_mode():\n",
        "  predictions = lstm(dataX)\n",
        "predictions = predictions.to('cpu')\n",
        "dataY = dataY.to('cpu')"
      ],
      "metadata": {
        "id": "WEm9aavIkeub"
      },
      "execution_count": 413,
      "outputs": []
    },
    {
      "cell_type": "code",
      "source": [
        "predictions.shape, dataY.shape"
      ],
      "metadata": {
        "colab": {
          "base_uri": "https://localhost:8080/"
        },
        "id": "sMosQ7uIlA5m",
        "outputId": "fcb77385-899d-4ace-ed52-aa14b9c6a936"
      },
      "execution_count": 414,
      "outputs": [
        {
          "output_type": "execute_result",
          "data": {
            "text/plain": [
              "(torch.Size([800, 24]), torch.Size([800, 24]))"
            ]
          },
          "metadata": {},
          "execution_count": 414
        }
      ]
    },
    {
      "cell_type": "code",
      "source": [
        "loss = criterion(predictions, dataY)\n",
        "print(f\"Loss = {loss}\")"
      ],
      "metadata": {
        "colab": {
          "base_uri": "https://localhost:8080/"
        },
        "id": "DyeWXB3jn3Wh",
        "outputId": "786b3a5b-643c-426a-9a12-98858defa891"
      },
      "execution_count": 415,
      "outputs": [
        {
          "output_type": "stream",
          "name": "stdout",
          "text": [
            "Loss = 0.00046195421600714326\n"
          ]
        }
      ]
    },
    {
      "cell_type": "code",
      "source": [
        "predictions_np = predictions.reshape(-1,1).data.numpy()\n",
        "dataY_np = dataY.reshape(-1,1).data.numpy()"
      ],
      "metadata": {
        "id": "EGz7XVLSlM4q"
      },
      "execution_count": 416,
      "outputs": []
    },
    {
      "cell_type": "code",
      "source": [
        "predictions_np.shape, dataY_np.shape"
      ],
      "metadata": {
        "colab": {
          "base_uri": "https://localhost:8080/"
        },
        "id": "kD_ZyBYfluAd",
        "outputId": "96a26070-49ae-40e0-cf06-5bae7d9733fc"
      },
      "execution_count": 417,
      "outputs": [
        {
          "output_type": "execute_result",
          "data": {
            "text/plain": [
              "((19200, 1), (19200, 1))"
            ]
          },
          "metadata": {},
          "execution_count": 417
        }
      ]
    },
    {
      "cell_type": "code",
      "source": [
        "plt.plot(predictions_np, label=\"Norm. predictions\")\n",
        "plt.plot(dataY_np, label=\"Norm. answers\")\n",
        "plt.legend()\n",
        "plt.title(\"Raw data\")\n",
        "plt.show()"
      ],
      "metadata": {
        "colab": {
          "base_uri": "https://localhost:8080/",
          "height": 452
        },
        "id": "1oz6JE0hkitT",
        "outputId": "ff6ff8cd-3e7b-4cb4-f93a-db6bbe3a46c1"
      },
      "execution_count": 418,
      "outputs": [
        {
          "output_type": "display_data",
          "data": {
            "text/plain": [
              "<Figure size 640x480 with 1 Axes>"
            ],
            "image/png": "[encoded data removed]"
          },
          "metadata": {}
        }
      ]
    },
    {
      "cell_type": "code",
      "source": [
        "plt.plot(predictions_np[12500:], label=\"Norm. predictions\")\n",
        "plt.plot(dataY_np[12500:], label=\"Norm. answers\")\n",
        "plt.legend()\n",
        "plt.title(\"Raw data\")\n",
        "plt.show()"
      ],
      "metadata": {
        "colab": {
          "base_uri": "https://localhost:8080/",
          "height": 452
        },
        "id": "5H1cnVA17DEo",
        "outputId": "6aecbaf2-277f-4e41-e5a2-71eabfa1ded6"
      },
      "execution_count": 419,
      "outputs": [
        {
          "output_type": "display_data",
          "data": {
            "text/plain": [
              "<Figure size 640x480 with 1 Axes>"
            ],
            "image/png": "[encoded data removed]"
          },
          "metadata": {}
        }
      ]
    },
    {
      "cell_type": "code",
      "source": [
        "dataY_np_unorm = outSc.inverse_transform(dataY_np)\n",
        "predictions_np_unorm = outSc.inverse_transform(predictions_np)"
      ],
      "metadata": {
        "id": "dsGdaDVXpeia"
      },
      "execution_count": 420,
      "outputs": []
    },
    {
      "cell_type": "code",
      "source": [
        "dataY_np_unorm[:3], dataY_np[:3]"
      ],
      "metadata": {
        "colab": {
          "base_uri": "https://localhost:8080/"
        },
        "id": "DVymX0saqrvm",
        "outputId": "2343db22-a854-454b-a012-d20bb31c568c"
      },
      "execution_count": 421,
      "outputs": [
        {
          "output_type": "execute_result",
          "data": {
            "text/plain": [
              "(array([[8658.167],\n",
              "        [8641.568],\n",
              "        [8759.063]], dtype=float32),\n",
              " array([[0.06396887],\n",
              "        [0.06371072],\n",
              "        [0.06553807]], dtype=float32))"
            ]
          },
          "metadata": {},
          "execution_count": 421
        }
      ]
    },
    {
      "cell_type": "code",
      "source": [
        "_dates = dates[seq_length : seq_length+dataY_np.size]\n",
        "print(_dates.size)"
      ],
      "metadata": {
        "colab": {
          "base_uri": "https://localhost:8080/"
        },
        "id": "jrht0j5d1Tbc",
        "outputId": "b0362010-6d26-41d2-e175-44c80c6b71d6"
      },
      "execution_count": 422,
      "outputs": [
        {
          "output_type": "stream",
          "name": "stdout",
          "text": [
            "19200\n"
          ]
        }
      ]
    },
    {
      "cell_type": "code",
      "source": [
        "int(train_size+eval_size)"
      ],
      "metadata": {
        "colab": {
          "base_uri": "https://localhost:8080/"
        },
        "id": "d1gN-XFXqoAt",
        "outputId": "3429c2df-4dd5-431f-d4ed-f1f7b79575ec"
      },
      "execution_count": 423,
      "outputs": [
        {
          "output_type": "execute_result",
          "data": {
            "text/plain": [
              "640"
            ]
          },
          "metadata": {},
          "execution_count": 423
        }
      ]
    },
    {
      "cell_type": "code",
      "source": [
        "# Tworzenie wykresu\n",
        "fig, ax = plt.subplots()\n",
        "ax.plot(_dates, dataY_np_unorm, label=\"Original data\")\n",
        "ax.plot(_dates, predictions_np_unorm, label=\"Predictions\")\n",
        "ax.axvline(x=_dates[(train_size+eval_size)*pred_length], c='r', linestyle='--')\n",
        "# Ustawienie formatu daty\n",
        "date_form = DateFormatter(\"%Y.%m\")\n",
        "ax.xaxis.set_major_formatter(date_form)\n",
        "plt.xlabel(\"date\")\n",
        "plt.ylabel(\"BTC/USD price\")\n",
        "ax.legend()\n",
        "# Rotacja etykiet osi X\n",
        "plt.xticks(rotation=45)\n",
        "\n",
        "# Wyświetlenie wykresu\n",
        "plt.show()\n",
        "\n",
        "# plt.plot(predictions_np_unorm, label=\"predictions\")\n",
        "# plt.plot(dataY_np_unorm, label=\"answers\")\n",
        "# plt.legend()\n",
        "# plt.title(\"Predicted data\")\n",
        "# plt.show()"
      ],
      "metadata": {
        "colab": {
          "base_uri": "https://localhost:8080/",
          "height": 486
        },
        "id": "vMScf2V0qcga",
        "outputId": "2de1e1e9-9fa1-4a8b-9f69-1f010f12a5c7"
      },
      "execution_count": 424,
      "outputs": [
        {
          "output_type": "display_data",
          "data": {
            "text/plain": [
              "<Figure size 640x480 with 1 Axes>"
            ],
            "image/png": "[encoded data removed]"
          },
          "metadata": {}
        }
      ]
    },
    {
      "cell_type": "code",
      "source": [
        "# Tworzenie wykresu\n",
        "fig, ax = plt.subplots()\n",
        "startInd = int(_dates.size*(train_perc+1)/2)\n",
        "ax.plot(_dates[startInd:], dataY_np_unorm[startInd:], label=\"Original data\")\n",
        "ax.plot(_dates[startInd:], predictions_np_unorm[startInd:], label=\"Predictions\")\n",
        "#ax.axvline(x=dates[train_size], c='r', linestyle='--')\n",
        "# Ustawienie formatu daty\n",
        "date_form = DateFormatter(\"%Y.%m\")\n",
        "ax.xaxis.set_major_formatter(date_form)\n",
        "plt.xlabel(\"date\")\n",
        "plt.ylabel(\"BTC/USD price\")\n",
        "ax.legend()\n",
        "# Rotacja etykiet osi X\n",
        "plt.xticks(rotation=45)\n",
        "\n",
        "# Wyświetlenie wykresu\n",
        "plt.show()"
      ],
      "metadata": {
        "id": "ZDWvWw9y6pQ_",
        "colab": {
          "base_uri": "https://localhost:8080/",
          "height": 486
        },
        "outputId": "2402b031-c0df-429b-e9c8-6d6f3bb8bb78"
      },
      "execution_count": 425,
      "outputs": [
        {
          "output_type": "display_data",
          "data": {
            "text/plain": [
              "<Figure size 640x480 with 1 Axes>"
            ],
            "image/png": "[encoded data removed]"
          },
          "metadata": {}
        }
      ]
    },
    {
      "cell_type": "code",
      "source": [
        "# Tworzenie wykresu\n",
        "fig, ax = plt.subplots()\n",
        "startInd = int(_dates.size*train_perc)\n",
        "ax.plot(_dates[-168:], dataY_np_unorm[-168:], label=\"Original data\")\n",
        "ax.plot(_dates[-168:], predictions_np_unorm[-168:], label=\"Predictions\")\n",
        "#ax.axvline(x=dates[train_size], c='r', linestyle='--')\n",
        "# Ustawienie formatu daty\n",
        "date_form = DateFormatter(\"%Y.%m.%d\")\n",
        "ax.xaxis.set_major_formatter(date_form)\n",
        "plt.xlabel(\"date\")\n",
        "plt.ylabel(\"BTC/USD price\")\n",
        "ax.legend()\n",
        "# Rotacja etykiet osi X\n",
        "plt.xticks(rotation=45)\n",
        "\n",
        "# Wyświetlenie wykresu\n",
        "plt.show()"
      ],
      "metadata": {
        "colab": {
          "base_uri": "https://localhost:8080/",
          "height": 501
        },
        "id": "ja0CiM-F7bae",
        "outputId": "27574169-8fbf-4213-cce4-df9aa5fee177"
      },
      "execution_count": 426,
      "outputs": [
        {
          "output_type": "display_data",
          "data": {
            "text/plain": [
              "<Figure size 640x480 with 1 Axes>"
            ],
            "image/png": "[encoded data removed]"
          },
          "metadata": {}
        }
      ]
    }
  ]
}
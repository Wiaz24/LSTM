{
  "nbformat": 4,
  "nbformat_minor": 0,
  "metadata": {
    "colab": {
      "provenance": [],
      "gpuType": "T4",
      "include_colab_link": true
    },
    "kernelspec": {
      "name": "python3",
      "display_name": "Python 3"
    },
    "accelerator": "GPU",
    "gpuClass": "standard",
    "widgets": {
      "application/vnd.jupyter.widget-state+json": {
        "f165a794f6e34f1e89601eb4b15465d3": {
          "model_module": "@jupyter-widgets/controls",
          "model_name": "HBoxModel",
          "model_module_version": "1.5.0",
          "state": {
            "_dom_classes": [],
            "_model_module": "@jupyter-widgets/controls",
            "_model_module_version": "1.5.0",
            "_model_name": "HBoxModel",
            "_view_count": null,
            "_view_module": "@jupyter-widgets/controls",
            "_view_module_version": "1.5.0",
            "_view_name": "HBoxView",
            "box_style": "",
            "children": [
              "IPY_MODEL_1f6159d04e6345f9b6500a4b2562ce7c",
              "IPY_MODEL_2d4990d7924c419abc9eadff36dbfc84",
              "IPY_MODEL_7b2a6eee3af945dfa4682c4cfd291f01"
            ],
            "layout": "IPY_MODEL_109001ce6f7d4fc28381b62e2eb36d57"
          }
        },
        "1f6159d04e6345f9b6500a4b2562ce7c": {
          "model_module": "@jupyter-widgets/controls",
          "model_name": "HTMLModel",
          "model_module_version": "1.5.0",
          "state": {
            "_dom_classes": [],
            "_model_module": "@jupyter-widgets/controls",
            "_model_module_version": "1.5.0",
            "_model_name": "HTMLModel",
            "_view_count": null,
            "_view_module": "@jupyter-widgets/controls",
            "_view_module_version": "1.5.0",
            "_view_name": "HTMLView",
            "description": "",
            "description_tooltip": null,
            "layout": "IPY_MODEL_6382a49e91344b6e82be22fd20c88a43",
            "placeholder": "​",
            "style": "IPY_MODEL_1be99b22877d49e8b95692fe0a7176f6",
            "value": "100%"
          }
        },
        "2d4990d7924c419abc9eadff36dbfc84": {
          "model_module": "@jupyter-widgets/controls",
          "model_name": "FloatProgressModel",
          "model_module_version": "1.5.0",
          "state": {
            "_dom_classes": [],
            "_model_module": "@jupyter-widgets/controls",
            "_model_module_version": "1.5.0",
            "_model_name": "FloatProgressModel",
            "_view_count": null,
            "_view_module": "@jupyter-widgets/controls",
            "_view_module_version": "1.5.0",
            "_view_name": "ProgressView",
            "bar_style": "success",
            "description": "",
            "description_tooltip": null,
            "layout": "IPY_MODEL_dc53cab96edc4290b683d27dd0e43572",
            "max": 150,
            "min": 0,
            "orientation": "horizontal",
            "style": "IPY_MODEL_44c994bbe3234b0d969e09cfd114bab0",
            "value": 150
          }
        },
        "7b2a6eee3af945dfa4682c4cfd291f01": {
          "model_module": "@jupyter-widgets/controls",
          "model_name": "HTMLModel",
          "model_module_version": "1.5.0",
          "state": {
            "_dom_classes": [],
            "_model_module": "@jupyter-widgets/controls",
            "_model_module_version": "1.5.0",
            "_model_name": "HTMLModel",
            "_view_count": null,
            "_view_module": "@jupyter-widgets/controls",
            "_view_module_version": "1.5.0",
            "_view_name": "HTMLView",
            "description": "",
            "description_tooltip": null,
            "layout": "IPY_MODEL_6c3cf650da544097afee9b27ea95d1fa",
            "placeholder": "​",
            "style": "IPY_MODEL_9919f252fcbe46cca6e46ad2d58d6ee6",
            "value": " 150/150 [01:20&lt;00:00,  1.91it/s]"
          }
        },
        "109001ce6f7d4fc28381b62e2eb36d57": {
          "model_module": "@jupyter-widgets/base",
          "model_name": "LayoutModel",
          "model_module_version": "1.2.0",
          "state": {
            "_model_module": "@jupyter-widgets/base",
            "_model_module_version": "1.2.0",
            "_model_name": "LayoutModel",
            "_view_count": null,
            "_view_module": "@jupyter-widgets/base",
            "_view_module_version": "1.2.0",
            "_view_name": "LayoutView",
            "align_content": null,
            "align_items": null,
            "align_self": null,
            "border": null,
            "bottom": null,
            "display": null,
            "flex": null,
            "flex_flow": null,
            "grid_area": null,
            "grid_auto_columns": null,
            "grid_auto_flow": null,
            "grid_auto_rows": null,
            "grid_column": null,
            "grid_gap": null,
            "grid_row": null,
            "grid_template_areas": null,
            "grid_template_columns": null,
            "grid_template_rows": null,
            "height": null,
            "justify_content": null,
            "justify_items": null,
            "left": null,
            "margin": null,
            "max_height": null,
            "max_width": null,
            "min_height": null,
            "min_width": null,
            "object_fit": null,
            "object_position": null,
            "order": null,
            "overflow": null,
            "overflow_x": null,
            "overflow_y": null,
            "padding": null,
            "right": null,
            "top": null,
            "visibility": null,
            "width": null
          }
        },
        "6382a49e91344b6e82be22fd20c88a43": {
          "model_module": "@jupyter-widgets/base",
          "model_name": "LayoutModel",
          "model_module_version": "1.2.0",
          "state": {
            "_model_module": "@jupyter-widgets/base",
            "_model_module_version": "1.2.0",
            "_model_name": "LayoutModel",
            "_view_count": null,
            "_view_module": "@jupyter-widgets/base",
            "_view_module_version": "1.2.0",
            "_view_name": "LayoutView",
            "align_content": null,
            "align_items": null,
            "align_self": null,
            "border": null,
            "bottom": null,
            "display": null,
            "flex": null,
            "flex_flow": null,
            "grid_area": null,
            "grid_auto_columns": null,
            "grid_auto_flow": null,
            "grid_auto_rows": null,
            "grid_column": null,
            "grid_gap": null,
            "grid_row": null,
            "grid_template_areas": null,
            "grid_template_columns": null,
            "grid_template_rows": null,
            "height": null,
            "justify_content": null,
            "justify_items": null,
            "left": null,
            "margin": null,
            "max_height": null,
            "max_width": null,
            "min_height": null,
            "min_width": null,
            "object_fit": null,
            "object_position": null,
            "order": null,
            "overflow": null,
            "overflow_x": null,
            "overflow_y": null,
            "padding": null,
            "right": null,
            "top": null,
            "visibility": null,
            "width": null
          }
        },
        "1be99b22877d49e8b95692fe0a7176f6": {
          "model_module": "@jupyter-widgets/controls",
          "model_name": "DescriptionStyleModel",
          "model_module_version": "1.5.0",
          "state": {
            "_model_module": "@jupyter-widgets/controls",
            "_model_module_version": "1.5.0",
            "_model_name": "DescriptionStyleModel",
            "_view_count": null,
            "_view_module": "@jupyter-widgets/base",
            "_view_module_version": "1.2.0",
            "_view_name": "StyleView",
            "description_width": ""
          }
        },
        "dc53cab96edc4290b683d27dd0e43572": {
          "model_module": "@jupyter-widgets/base",
          "model_name": "LayoutModel",
          "model_module_version": "1.2.0",
          "state": {
            "_model_module": "@jupyter-widgets/base",
            "_model_module_version": "1.2.0",
            "_model_name": "LayoutModel",
            "_view_count": null,
            "_view_module": "@jupyter-widgets/base",
            "_view_module_version": "1.2.0",
            "_view_name": "LayoutView",
            "align_content": null,
            "align_items": null,
            "align_self": null,
            "border": null,
            "bottom": null,
            "display": null,
            "flex": null,
            "flex_flow": null,
            "grid_area": null,
            "grid_auto_columns": null,
            "grid_auto_flow": null,
            "grid_auto_rows": null,
            "grid_column": null,
            "grid_gap": null,
            "grid_row": null,
            "grid_template_areas": null,
            "grid_template_columns": null,
            "grid_template_rows": null,
            "height": null,
            "justify_content": null,
            "justify_items": null,
            "left": null,
            "margin": null,
            "max_height": null,
            "max_width": null,
            "min_height": null,
            "min_width": null,
            "object_fit": null,
            "object_position": null,
            "order": null,
            "overflow": null,
            "overflow_x": null,
            "overflow_y": null,
            "padding": null,
            "right": null,
            "top": null,
            "visibility": null,
            "width": null
          }
        },
        "44c994bbe3234b0d969e09cfd114bab0": {
          "model_module": "@jupyter-widgets/controls",
          "model_name": "ProgressStyleModel",
          "model_module_version": "1.5.0",
          "state": {
            "_model_module": "@jupyter-widgets/controls",
            "_model_module_version": "1.5.0",
            "_model_name": "ProgressStyleModel",
            "_view_count": null,
            "_view_module": "@jupyter-widgets/base",
            "_view_module_version": "1.2.0",
            "_view_name": "StyleView",
            "bar_color": null,
            "description_width": ""
          }
        },
        "6c3cf650da544097afee9b27ea95d1fa": {
          "model_module": "@jupyter-widgets/base",
          "model_name": "LayoutModel",
          "model_module_version": "1.2.0",
          "state": {
            "_model_module": "@jupyter-widgets/base",
            "_model_module_version": "1.2.0",
            "_model_name": "LayoutModel",
            "_view_count": null,
            "_view_module": "@jupyter-widgets/base",
            "_view_module_version": "1.2.0",
            "_view_name": "LayoutView",
            "align_content": null,
            "align_items": null,
            "align_self": null,
            "border": null,
            "bottom": null,
            "display": null,
            "flex": null,
            "flex_flow": null,
            "grid_area": null,
            "grid_auto_columns": null,
            "grid_auto_flow": null,
            "grid_auto_rows": null,
            "grid_column": null,
            "grid_gap": null,
            "grid_row": null,
            "grid_template_areas": null,
            "grid_template_columns": null,
            "grid_template_rows": null,
            "height": null,
            "justify_content": null,
            "justify_items": null,
            "left": null,
            "margin": null,
            "max_height": null,
            "max_width": null,
            "min_height": null,
            "min_width": null,
            "object_fit": null,
            "object_position": null,
            "order": null,
            "overflow": null,
            "overflow_x": null,
            "overflow_y": null,
            "padding": null,
            "right": null,
            "top": null,
            "visibility": null,
            "width": null
          }
        },
        "9919f252fcbe46cca6e46ad2d58d6ee6": {
          "model_module": "@jupyter-widgets/controls",
          "model_name": "DescriptionStyleModel",
          "model_module_version": "1.5.0",
          "state": {
            "_model_module": "@jupyter-widgets/controls",
            "_model_module_version": "1.5.0",
            "_model_name": "DescriptionStyleModel",
            "_view_count": null,
            "_view_module": "@jupyter-widgets/base",
            "_view_module_version": "1.2.0",
            "_view_name": "StyleView",
            "description_width": ""
          }
        }
      }
    }
  },
  "cells": [
    {
      "cell_type": "markdown",
      "metadata": {
        "id": "view-in-github",
        "colab_type": "text"
      },
      "source": [
        "<a href=\"https://colab.research.google.com/github/Wiaz24/LSTM/blob/batch_training/ProjektNN_LSTM.ipynb\" target=\"_parent\"><img src=\"https://colab.research.google.com/assets/colab-badge.svg\" alt=\"Open In Colab\"/></a>"
      ]
    },
    {
      "cell_type": "code",
      "metadata": {
        "id": "wb-Z7wNKUJko",
        "colab": {
          "base_uri": "https://localhost:8080/"
        },
        "outputId": "104559f5-0f6e-4e36-d043-80376151d687"
      },
      "source": [
        "import numpy as np\n",
        "import scipy as sp\n",
        "import matplotlib.pyplot as plt\n",
        "from matplotlib.dates import DateFormatter\n",
        "import pandas as pd\n",
        "import torch\n",
        "import torch.nn as nn\n",
        "import pandas_datareader as web\n",
        "import datetime as dt\n",
        "from torch.autograd import Variable\n",
        "from torch.utils.data import TensorDataset, DataLoader\n",
        "from sklearn.preprocessing import MinMaxScaler\n",
        "import yfinance as yf\n",
        "from pathlib import Path\n",
        "from tqdm.auto import tqdm\n",
        "import os\n",
        "print(torch.__version__)"
      ],
      "execution_count": 64,
      "outputs": [
        {
          "output_type": "stream",
          "name": "stdout",
          "text": [
            "2.0.0+cu118\n"
          ]
        }
      ]
    },
    {
      "cell_type": "code",
      "source": [
        "from google.colab import drive\n",
        "drive.mount('/content/drive')"
      ],
      "metadata": {
        "colab": {
          "base_uri": "https://localhost:8080/"
        },
        "id": "AAXql-twaD0-",
        "outputId": "3e44a63f-140b-4440-de5c-9e414462b843"
      },
      "execution_count": 65,
      "outputs": [
        {
          "output_type": "stream",
          "name": "stdout",
          "text": [
            "Drive already mounted at /content/drive; to attempt to forcibly remount, call drive.mount(\"/content/drive\", force_remount=True).\n"
          ]
        }
      ]
    },
    {
      "cell_type": "code",
      "source": [
        "!mkdir datasets"
      ],
      "metadata": {
        "colab": {
          "base_uri": "https://localhost:8080/"
        },
        "id": "tBNtorgyZyac",
        "outputId": "57d9ccaf-c7dc-48a6-b8f2-ca7cab78157a"
      },
      "execution_count": 66,
      "outputs": [
        {
          "output_type": "stream",
          "name": "stdout",
          "text": [
            "mkdir: cannot create directory ‘datasets’: File exists\n"
          ]
        }
      ]
    },
    {
      "cell_type": "code",
      "source": [
        "!cp drive/MyDrive/LunarData.csv datasets/LunarData.csv"
      ],
      "metadata": {
        "id": "AqRM8qZDarvs"
      },
      "execution_count": 67,
      "outputs": []
    },
    {
      "cell_type": "markdown",
      "source": [
        "### Hyprparameters"
      ],
      "metadata": {
        "id": "Z8cQDh4BBny6"
      }
    },
    {
      "cell_type": "code",
      "source": [
        "num_epochs = 150\n",
        "learning_rate = 0.0001\n",
        "train_perc = 0.60\n",
        "batch_size = 32\n",
        "\n",
        "input_size = 14\n",
        "hidden_size = 256\n",
        "num_lstm_layers = 3\n",
        "\n",
        "seq_length = 60\n",
        "pred_length = 7"
      ],
      "metadata": {
        "id": "ZHfOSABRBm__"
      },
      "execution_count": 68,
      "outputs": []
    },
    {
      "cell_type": "markdown",
      "source": [
        "### Download or load dataset"
      ],
      "metadata": {
        "id": "zUuUr3ystuFm"
      }
    },
    {
      "cell_type": "code",
      "source": [
        "DATASETS_PATH = Path(\"datasets\")\n",
        "DATASETS_PATH.mkdir(parents=True, exist_ok=True)\n",
        "\n",
        "DATASET_NAME = \"LunarData.csv\"\n",
        "#DATASET_NAME = \"BTC_USD.csv\"\n",
        "DATASET_SAVE_PATH = DATASETS_PATH / DATASET_NAME\n",
        "\n",
        "alldata = pd.read_csv(DATASET_SAVE_PATH)\n",
        "  \n",
        "# start = dt.datetime(2017, 1, 1)\n",
        "# end = dt.datetime.now()\n",
        "# alldata = yf.download('BTC-USD', start=start, end=end, progress=False)\n",
        "# print(f\"Saving dataset to: {DATASET_SAVE_PATH}\")\n",
        "# alldata.to_csv(DATASET_SAVE_PATH, index=False)"
      ],
      "metadata": {
        "id": "glt-ESActx1M"
      },
      "execution_count": 69,
      "outputs": []
    },
    {
      "cell_type": "markdown",
      "metadata": {
        "id": "e31mswiSBEEB"
      },
      "source": [
        "### Data plot"
      ]
    },
    {
      "cell_type": "code",
      "source": [
        "dates = pd.to_datetime(alldata['time'], unit='s')\n",
        "data = alldata.iloc[:, :-1].to_numpy()\n",
        "\n",
        "print(f\"(Num of examples, number of attributes) = {data.shape}\")\n",
        "date_form = DateFormatter(\"%Y\")\n",
        "_dates = dates\n",
        "fig, ax = plt.subplots()\n",
        "ax.plot(_dates, data)\n",
        "ax.xaxis.set_major_formatter(date_form)\n",
        "# Rotacja etykiet osi X\n",
        "plt.xticks(rotation=45)\n",
        "print(data[0:3,:])\n",
        "plt.show()"
      ],
      "metadata": {
        "colab": {
          "base_uri": "https://localhost:8080/",
          "height": 688
        },
        "id": "5wJDafmHuBRR",
        "outputId": "87099908-36cb-400d-b89c-e73e92afb933"
      },
      "execution_count": 70,
      "outputs": [
        {
          "output_type": "stream",
          "name": "stdout",
          "text": [
            "(Num of examples, number of attributes) = (19272, 14)\n",
            "[[8.38384380e+03 8.31591237e+03 6.65000000e+01 1.74000000e+02\n",
            "  5.00000000e+00 1.88000000e+03 3.03961196e+01 3.70000000e+00\n",
            "  8.26000000e+02 1.24000000e+03 1.97000000e+02 2.00000000e+00\n",
            "  6.70115727e+01 2.80875800e-02]\n",
            " [8.39858668e+03 8.43240018e+03 6.50000000e+01 1.90000000e+02\n",
            "  5.00000000e+00 1.61700000e+03 2.90931990e+01 3.70000000e+00\n",
            "  6.63000000e+02 1.09200000e+03 1.47000000e+02 1.00000000e+00\n",
            "  6.74648161e+01 2.86838800e-02]\n",
            " [8.51384077e+03 8.34855467e+03 6.90000000e+01 1.73000000e+02\n",
            "  5.00000000e+00 1.91300000e+03 3.18780203e+01 3.60000000e+00\n",
            "  7.16000000e+02 1.33600000e+03 2.31000000e+02 1.00000000e+00\n",
            "  6.72991887e+01 2.97688200e-02]]\n"
          ]
        },
        {
          "output_type": "display_data",
          "data": {
            "text/plain": [
              "<Figure size 640x480 with 1 Axes>"
            ],
            "image/png": "[encoded data removed]"
          },
          "metadata": {}
        }
      ]
    },
    {
      "cell_type": "markdown",
      "metadata": {
        "id": "NabsV8O5BBd5"
      },
      "source": [
        "## Dataloading"
      ]
    },
    {
      "cell_type": "code",
      "source": [
        "data[:,1].reshape(-1,1).shape"
      ],
      "metadata": {
        "colab": {
          "base_uri": "https://localhost:8080/"
        },
        "id": "RFaT6ud0yVbh",
        "outputId": "b16e89e8-6164-469e-f229-1a7080bad8d7"
      },
      "execution_count": 71,
      "outputs": [
        {
          "output_type": "execute_result",
          "data": {
            "text/plain": [
              "(19272, 1)"
            ]
          },
          "metadata": {},
          "execution_count": 71
        }
      ]
    },
    {
      "cell_type": "code",
      "metadata": {
        "id": "vIWvJCpOVmwU",
        "colab": {
          "base_uri": "https://localhost:8080/"
        },
        "outputId": "229e2247-757f-4921-ebbf-db1f1ab5a341"
      },
      "source": [
        "def sliding_windows(data, seq_length=1):\n",
        "    x = []\n",
        "    y = []\n",
        "\n",
        "    # przykładowo: seq_lenght = 7, pred_length = 3, wtedy:\n",
        "    for i in range(0, len(data) - seq_length - pred_length, pred_length):  # dla i = 0:\n",
        "        _x = data[i:(i+seq_length), :]                      # _x = data[0:7, wszystkie cechy],  potem data[3:10,:]\n",
        "        _y = data[i+seq_length:i+seq_length+pred_length, 1] # _y = data[7:10, close_price] ,    potem data[10:13,1]\n",
        "        x.append(_x)\n",
        "        y.append(_y)\n",
        "\n",
        "    return np.array(x),np.array(y)\n",
        "\n",
        "sc = MinMaxScaler()\n",
        "outSc = MinMaxScaler()\n",
        "outSc.fit_transform(data[:,1].reshape(-1,1))\n",
        "data = sc.fit_transform(data) #normalizacja danych\n",
        "x, y = sliding_windows(data, seq_length)  #tworzenie ramek uczących i odpowiedzi\n",
        "\n",
        "print(f\"x.shape = {x.shape}, y.shape = {y.shape}\")                "
      ],
      "execution_count": 72,
      "outputs": [
        {
          "output_type": "stream",
          "name": "stdout",
          "text": [
            "x.shape = (2744, 60, 14), y.shape = (2744, 7)\n"
          ]
        }
      ]
    },
    {
      "cell_type": "code",
      "source": [
        "train_size = int(len(y) * train_perc)\n",
        "test_size = int((len(y) - train_size)/2)\n",
        "eval_size = test_size\n",
        "\n",
        "device = \"cuda\" if torch.cuda.is_available() else \"cpu\"\n",
        "\n",
        "dataX = Variable(torch.Tensor(np.array(x)))\n",
        "dataY = Variable(torch.Tensor(np.array(y)))\n",
        "dataX = dataX.to(device)\n",
        "dataY = dataY.to(device)                                       \n",
        "\n",
        "trainX = Variable(torch.Tensor(np.array(x[0:train_size])))\n",
        "trainY = Variable(torch.Tensor(np.array(y[0:train_size])))\n",
        "trainX = trainX.to(device)\n",
        "trainY = trainY.to(device)\n",
        "\n",
        "trainDataLoader = DataLoader( TensorDataset(trainX, trainY),\n",
        "                              batch_size=batch_size,\n",
        "                              shuffle=True)\n",
        "\n",
        "evalX = Variable(torch.Tensor(np.array(x[train_size:train_size+eval_size])))\n",
        "evalY = Variable(torch.Tensor(np.array(y[train_size:train_size+eval_size])))\n",
        "evalX = evalX.to(device)\n",
        "evalY = evalY.to(device)\n",
        "\n",
        "evalDataLoader = DataLoader( TensorDataset(evalX, evalY),\n",
        "                              batch_size=batch_size,\n",
        "                              shuffle=True)\n",
        "\n",
        "testX = Variable(torch.Tensor(np.array(x[train_size+eval_size:len(x)])))\n",
        "testY = Variable(torch.Tensor(np.array(y[train_size+eval_size:len(y)])))\n",
        "testX = testX.to(device)\n",
        "testY = testY.to(device)\n",
        "\n",
        "testDataLoader = DataLoader( TensorDataset(testX, testY),\n",
        "                              batch_size=batch_size,\n",
        "                              shuffle=False)"
      ],
      "metadata": {
        "id": "doIn6RnEZMlJ"
      },
      "execution_count": 73,
      "outputs": []
    },
    {
      "cell_type": "code",
      "source": [
        "features, labels = next(iter(trainDataLoader))\n",
        "features.shape, labels.shape"
      ],
      "metadata": {
        "colab": {
          "base_uri": "https://localhost:8080/"
        },
        "id": "j0sBRIzi8XGN",
        "outputId": "028c84ec-4d6f-48e3-c7bf-4e23c4a7781f"
      },
      "execution_count": 74,
      "outputs": [
        {
          "output_type": "execute_result",
          "data": {
            "text/plain": [
              "(torch.Size([32, 60, 14]), torch.Size([32, 7]))"
            ]
          },
          "metadata": {},
          "execution_count": 74
        }
      ]
    },
    {
      "cell_type": "code",
      "source": [
        "print(f\"trainX.shape = {trainX.shape}, trainY.shape = {trainY.shape}\")\n",
        "print(f\"evalX.shape = {evalX.shape}, evalY.shape = {evalY.shape}\")\n",
        "print(f\"testX.shape = {testX.shape}, testY.shape = {testY.shape}\")"
      ],
      "metadata": {
        "id": "yXFzOCb1D5Bu",
        "colab": {
          "base_uri": "https://localhost:8080/"
        },
        "outputId": "01cf3946-fffd-4870-fea3-7ace57e844e6"
      },
      "execution_count": 75,
      "outputs": [
        {
          "output_type": "stream",
          "name": "stdout",
          "text": [
            "trainX.shape = torch.Size([1646, 60, 14]), trainY.shape = torch.Size([1646, 7])\n",
            "evalX.shape = torch.Size([549, 60, 14]), evalY.shape = torch.Size([549, 7])\n",
            "testX.shape = torch.Size([549, 60, 14]), testY.shape = torch.Size([549, 7])\n"
          ]
        }
      ]
    },
    {
      "cell_type": "code",
      "source": [
        "trainX.device, testY.device"
      ],
      "metadata": {
        "id": "q1DR9uN3MrfZ",
        "colab": {
          "base_uri": "https://localhost:8080/"
        },
        "outputId": "1ae35797-bedf-4200-fced-37cf6da5a2e3"
      },
      "execution_count": 76,
      "outputs": [
        {
          "output_type": "execute_result",
          "data": {
            "text/plain": [
              "(device(type='cuda', index=0), device(type='cuda', index=0))"
            ]
          },
          "metadata": {},
          "execution_count": 76
        }
      ]
    },
    {
      "cell_type": "markdown",
      "metadata": {
        "id": "--1LVbHOBSIy"
      },
      "source": [
        "## Model"
      ]
    },
    {
      "cell_type": "code",
      "metadata": {
        "id": "_BcDEjcABRVz"
      },
      "source": [
        "class LSTM(nn.Module):\n",
        "\n",
        "    def __init__(self, pred_length, input_size, hidden_size, num_lstm_layers):\n",
        "        super(LSTM, self).__init__()\n",
        "        \n",
        "        self.num_classes = pred_length\n",
        "        self.num_lstm_layers = num_lstm_layers\n",
        "        self.input_size = input_size\n",
        "        self.hidden_size = hidden_size\n",
        "        self.seq_length = seq_length\n",
        "        \n",
        "        self.lstm = nn.LSTM(input_size=input_size, hidden_size=hidden_size,\n",
        "                            num_layers=num_lstm_layers, batch_first=True)\n",
        "        self.fc = nn.Linear(self.hidden_size, self.num_classes)\n",
        "\n",
        "    def forward(self, x):\n",
        "        h_0 = Variable(torch.zeros(\n",
        "            self.num_lstm_layers, x.size(0), self.hidden_size).cuda())\n",
        "\n",
        "        c_0 = Variable(torch.zeros(\n",
        "            self.num_lstm_layers, x.size(0), self.hidden_size).cuda())\n",
        "\n",
        "        # Propagate input through LSTM\n",
        "        output, (hn, cn) = self.lstm(x, (h_0, c_0))\n",
        "        # Reshape for dense layer\n",
        "        out = output[:, -1, :]\n",
        "        \n",
        "        out = self.fc(out)\n",
        "        \n",
        "        return out"
      ],
      "execution_count": 77,
      "outputs": []
    },
    {
      "cell_type": "markdown",
      "metadata": {
        "id": "tdzFI5GJBUF5"
      },
      "source": [
        "## Training"
      ]
    },
    {
      "cell_type": "code",
      "source": [
        "!git clone https://gist.github.com/NTT123/4596e5533e573c8ceab2f319ab5d36a2 jslog\n",
        "import random\n",
        "import math\n",
        "import time\n",
        "from jslog.jslogger import JSLogger\n",
        "\n",
        "logger = JSLogger('train/test loss', ['train', 'test'])"
      ],
      "metadata": {
        "colab": {
          "base_uri": "https://localhost:8080/"
        },
        "id": "uPWjPfkzEWfz",
        "outputId": "fe426ec5-d0ff-4070-d1e2-e7de62202133"
      },
      "execution_count": 78,
      "outputs": [
        {
          "output_type": "stream",
          "name": "stdout",
          "text": [
            "fatal: destination path 'jslog' already exists and is not an empty directory.\n"
          ]
        }
      ]
    },
    {
      "cell_type": "code",
      "metadata": {
        "id": "a2vvHeFgVtCp",
        "colab": {
          "base_uri": "https://localhost:8080/",
          "height": 335,
          "referenced_widgets": [
            "f165a794f6e34f1e89601eb4b15465d3",
            "1f6159d04e6345f9b6500a4b2562ce7c",
            "2d4990d7924c419abc9eadff36dbfc84",
            "7b2a6eee3af945dfa4682c4cfd291f01",
            "109001ce6f7d4fc28381b62e2eb36d57",
            "6382a49e91344b6e82be22fd20c88a43",
            "1be99b22877d49e8b95692fe0a7176f6",
            "dc53cab96edc4290b683d27dd0e43572",
            "44c994bbe3234b0d969e09cfd114bab0",
            "6c3cf650da544097afee9b27ea95d1fa",
            "9919f252fcbe46cca6e46ad2d58d6ee6"
          ]
        },
        "outputId": "b00e7cc3-c677-40d0-d0f2-56fbe19e4042"
      },
      "source": [
        "%%time\n",
        "logger.show()\n",
        "lstm = LSTM(pred_length, input_size, hidden_size, num_lstm_layers)\n",
        "lstm.to(device)\n",
        "criterion = torch.nn.MSELoss()    # mean-squared error for regression\n",
        "optimizer = torch.optim.Adam(lstm.parameters(), lr=learning_rate)\n",
        "\n",
        "first = True\n",
        "# Train the model\n",
        "for epoch in tqdm(range(num_epochs)):\n",
        "    #uczenie modelu\n",
        "    lstm.train()\n",
        "    for inputs, labels in trainDataLoader:\n",
        "        optimizer.zero_grad()\n",
        "        outputs = lstm(inputs)\n",
        "        loss = criterion(outputs, labels)\n",
        "        loss.backward()\n",
        "        optimizer.step()\n",
        "        train_loss = loss.item()\n",
        "\n",
        "    # ewaluacja modelu\n",
        "    lstm.eval()\n",
        "    with torch.inference_mode():\n",
        "        for inputs, labels in evalDataLoader:\n",
        "            outputs = lstm(inputs)\n",
        "            loss = criterion(outputs, labels)\n",
        "            eval_loss = loss.item()\n",
        "\n",
        "    # wykres funkcji straty dla zbioru treningowego i ewaluacyjnego\n",
        "    logger.log(epoch, {'train': train_loss, 'test': eval_loss})\n",
        "    # !clear\n",
        "    # plt.plot(train_loss, label='Train')\n",
        "    # plt.plot(eval_loss, label='Eval')\n",
        "    # plt.legend()\n",
        "    # plt.title('Loss over epochs')\n",
        "    # plt.xlabel('Epoch')\n",
        "    # plt.ylabel('Loss')\n",
        "    # plt.show()\n",
        "\n",
        "    # outputs = lstm(trainX)\n",
        "    # optimizer.zero_grad()\n",
        "    # if first == True:\n",
        "    #   print(outputs.shape)\n",
        "    #   first = False\n",
        "    # # obtain the loss function\n",
        "    \n",
        "    # trainY = trainY.reshape(-1, pred_length)\n",
        "    # loss = criterion(outputs, trainY)\n",
        "    \n",
        "    # loss.backward()\n",
        "    \n",
        "    # optimizer.step()\n",
        "    # if epoch % 10 == 0:\n",
        "    #   print(\"Epoch: %d, loss: %1.8f\" % (epoch, loss.item()))\n",
        "\n",
        "# print(outputs.shape)\n",
        "# print(trainY.shape)"
      ],
      "execution_count": 79,
      "outputs": [
        {
          "output_type": "display_data",
          "data": {
            "text/plain": [
              "<IPython.core.display.HTML object>"
            ],
            "text/html": [
              "\n",
              "            <script src=\"https://cdn.jsdelivr.net/npm/chart.js@2.9.3/dist/Chart.min.js\"></script>\n",
              "            <div class=\"chart-container\" style=\"height:250px; width:500px;\"><canvas id=\"1965689715\"></canvas></div>\n",
              "            <script>\n",
              "            var ctx_1965689715 = document.getElementById('1965689715').getContext('2d');\n",
              "            ctx_1965689715.canvas.width = 500;\n",
              "\t\t    ctx_1965689715.canvas.height = 250;\n",
              "\n",
              "            var myLineChart_1965689715 = new Chart(ctx_1965689715, {\n",
              "            type: 'line',\n",
              "            data: {labels: [],datasets: [\n",
              "            {\n",
              "                data: [], \n",
              "                label: \"train\",\n",
              "                borderColor: \"#4dc9f6\",\n",
              "                borderWidth: 1.5, \n",
              "                pointRadius: 0, \n",
              "                lineTension: 0,\n",
              "                backgroundColor: 'rgba(0, 0, 0, 0)',\n",
              "                fill: false\n",
              "            }\n",
              "            , \n",
              "            {\n",
              "                data: [], \n",
              "                label: \"test\",\n",
              "                borderColor: \"#f67019\",\n",
              "                borderWidth: 1.5, \n",
              "                pointRadius: 0, \n",
              "                lineTension: 0,\n",
              "                backgroundColor: 'rgba(0, 0, 0, 0)',\n",
              "                fill: false\n",
              "            }\n",
              "            ]},\n",
              "            options: {\n",
              "                tooltips: {intersect: false,mode: 'index'},\n",
              "\t\t\t\tanimation: {duration: 0},\n",
              "                title: {display: true,text: 'train/test loss'} } });\n",
              "            function addData(chart, label, data) {\n",
              "                chart.data.labels.push(label);\n",
              "                chart.data.datasets.forEach((dataset, i) => {\n",
              "                    dataset.data.push(data[i]);\n",
              "                });\n",
              "                chart.update();\n",
              "            }\n",
              "            </script>\n",
              "        "
            ]
          },
          "metadata": {}
        },
        {
          "output_type": "display_data",
          "data": {
            "text/plain": [
              "  0%|          | 0/150 [00:00<?, ?it/s]"
            ],
            "application/vnd.jupyter.widget-view+json": {
              "version_major": 2,
              "version_minor": 0,
              "model_id": "f165a794f6e34f1e89601eb4b15465d3"
            }
          },
          "metadata": {}
        },
        {
          "output_type": "display_data",
          "data": {
            "text/plain": [
              "<IPython.core.display.Javascript object>"
            ],
            "application/javascript": [
              "\n",
              "            addData(myLineChart_1965689715, 0, [0.02577090449631214, 0.29696154594421387]);    \n",
              "        "
            ]
          },
          "metadata": {}
        },
        {
          "output_type": "display_data",
          "data": {
            "text/plain": [
              "<IPython.core.display.Javascript object>"
            ],
            "application/javascript": [
              "\n",
              "            addData(myLineChart_1965689715, 1, [0.0006597717292606831, 0.059362076222896576]);    \n",
              "        "
            ]
          },
          "metadata": {}
        },
        {
          "output_type": "display_data",
          "data": {
            "text/plain": [
              "<IPython.core.display.Javascript object>"
            ],
            "application/javascript": [
              "\n",
              "            addData(myLineChart_1965689715, 2, [0.0003576015296857804, 0.006181642413139343]);    \n",
              "        "
            ]
          },
          "metadata": {}
        },
        {
          "output_type": "display_data",
          "data": {
            "text/plain": [
              "<IPython.core.display.Javascript object>"
            ],
            "application/javascript": [
              "\n",
              "            addData(myLineChart_1965689715, 3, [0.0002627366338856518, 0.008932923898100853]);    \n",
              "        "
            ]
          },
          "metadata": {}
        },
        {
          "output_type": "display_data",
          "data": {
            "text/plain": [
              "<IPython.core.display.Javascript object>"
            ],
            "application/javascript": [
              "\n",
              "            addData(myLineChart_1965689715, 4, [0.00010032513819169253, 0.023240627720952034]);    \n",
              "        "
            ]
          },
          "metadata": {}
        },
        {
          "output_type": "display_data",
          "data": {
            "text/plain": [
              "<IPython.core.display.Javascript object>"
            ],
            "application/javascript": [
              "\n",
              "            addData(myLineChart_1965689715, 5, [0.00010867000673897564, 0.010847297497093678]);    \n",
              "        "
            ]
          },
          "metadata": {}
        },
        {
          "output_type": "display_data",
          "data": {
            "text/plain": [
              "<IPython.core.display.Javascript object>"
            ],
            "application/javascript": [
              "\n",
              "            addData(myLineChart_1965689715, 6, [5.76198726776056e-05, 0.006430427078157663]);    \n",
              "        "
            ]
          },
          "metadata": {}
        },
        {
          "output_type": "display_data",
          "data": {
            "text/plain": [
              "<IPython.core.display.Javascript object>"
            ],
            "application/javascript": [
              "\n",
              "            addData(myLineChart_1965689715, 7, [0.00015487114433199167, 0.013632034882903099]);    \n",
              "        "
            ]
          },
          "metadata": {}
        },
        {
          "output_type": "display_data",
          "data": {
            "text/plain": [
              "<IPython.core.display.Javascript object>"
            ],
            "application/javascript": [
              "\n",
              "            addData(myLineChart_1965689715, 8, [8.121022256091237e-05, 0.0032432114239782095]);    \n",
              "        "
            ]
          },
          "metadata": {}
        },
        {
          "output_type": "display_data",
          "data": {
            "text/plain": [
              "<IPython.core.display.Javascript object>"
            ],
            "application/javascript": [
              "\n",
              "            addData(myLineChart_1965689715, 9, [9.655259782448411e-05, 0.005495158024132252]);    \n",
              "        "
            ]
          },
          "metadata": {}
        },
        {
          "output_type": "display_data",
          "data": {
            "text/plain": [
              "<IPython.core.display.Javascript object>"
            ],
            "application/javascript": [
              "\n",
              "            addData(myLineChart_1965689715, 10, [4.248363256920129e-05, 0.0011930285254493356]);    \n",
              "        "
            ]
          },
          "metadata": {}
        },
        {
          "output_type": "display_data",
          "data": {
            "text/plain": [
              "<IPython.core.display.Javascript object>"
            ],
            "application/javascript": [
              "\n",
              "            addData(myLineChart_1965689715, 11, [8.222625183407217e-05, 0.009708539582788944]);    \n",
              "        "
            ]
          },
          "metadata": {}
        },
        {
          "output_type": "display_data",
          "data": {
            "text/plain": [
              "<IPython.core.display.Javascript object>"
            ],
            "application/javascript": [
              "\n",
              "            addData(myLineChart_1965689715, 12, [2.7867161406902596e-05, 0.003578470554202795]);    \n",
              "        "
            ]
          },
          "metadata": {}
        },
        {
          "output_type": "display_data",
          "data": {
            "text/plain": [
              "<IPython.core.display.Javascript object>"
            ],
            "application/javascript": [
              "\n",
              "            addData(myLineChart_1965689715, 13, [7.360406743828207e-05, 0.004188672173768282]);    \n",
              "        "
            ]
          },
          "metadata": {}
        },
        {
          "output_type": "display_data",
          "data": {
            "text/plain": [
              "<IPython.core.display.Javascript object>"
            ],
            "application/javascript": [
              "\n",
              "            addData(myLineChart_1965689715, 14, [9.37948061618954e-05, 0.009062477387487888]);    \n",
              "        "
            ]
          },
          "metadata": {}
        },
        {
          "output_type": "display_data",
          "data": {
            "text/plain": [
              "<IPython.core.display.Javascript object>"
            ],
            "application/javascript": [
              "\n",
              "            addData(myLineChart_1965689715, 15, [4.487002661335282e-05, 0.00791062880307436]);    \n",
              "        "
            ]
          },
          "metadata": {}
        },
        {
          "output_type": "display_data",
          "data": {
            "text/plain": [
              "<IPython.core.display.Javascript object>"
            ],
            "application/javascript": [
              "\n",
              "            addData(myLineChart_1965689715, 16, [2.143113306374289e-05, 0.007231811061501503]);    \n",
              "        "
            ]
          },
          "metadata": {}
        },
        {
          "output_type": "display_data",
          "data": {
            "text/plain": [
              "<IPython.core.display.Javascript object>"
            ],
            "application/javascript": [
              "\n",
              "            addData(myLineChart_1965689715, 17, [0.00011383364471839741, 0.005376738030463457]);    \n",
              "        "
            ]
          },
          "metadata": {}
        },
        {
          "output_type": "display_data",
          "data": {
            "text/plain": [
              "<IPython.core.display.Javascript object>"
            ],
            "application/javascript": [
              "\n",
              "            addData(myLineChart_1965689715, 18, [2.70008767984109e-05, 0.007897050119936466]);    \n",
              "        "
            ]
          },
          "metadata": {}
        },
        {
          "output_type": "display_data",
          "data": {
            "text/plain": [
              "<IPython.core.display.Javascript object>"
            ],
            "application/javascript": [
              "\n",
              "            addData(myLineChart_1965689715, 19, [0.00017431039304938167, 0.005565536208450794]);    \n",
              "        "
            ]
          },
          "metadata": {}
        },
        {
          "output_type": "display_data",
          "data": {
            "text/plain": [
              "<IPython.core.display.Javascript object>"
            ],
            "application/javascript": [
              "\n",
              "            addData(myLineChart_1965689715, 20, [0.00010193864000029862, 0.0018652973230928183]);    \n",
              "        "
            ]
          },
          "metadata": {}
        },
        {
          "output_type": "display_data",
          "data": {
            "text/plain": [
              "<IPython.core.display.Javascript object>"
            ],
            "application/javascript": [
              "\n",
              "            addData(myLineChart_1965689715, 21, [2.6092122425325215e-05, 0.002596530830487609]);    \n",
              "        "
            ]
          },
          "metadata": {}
        },
        {
          "output_type": "display_data",
          "data": {
            "text/plain": [
              "<IPython.core.display.Javascript object>"
            ],
            "application/javascript": [
              "\n",
              "            addData(myLineChart_1965689715, 22, [9.001736179925501e-05, 0.0028544568922370672]);    \n",
              "        "
            ]
          },
          "metadata": {}
        },
        {
          "output_type": "display_data",
          "data": {
            "text/plain": [
              "<IPython.core.display.Javascript object>"
            ],
            "application/javascript": [
              "\n",
              "            addData(myLineChart_1965689715, 23, [1.9062263163505122e-05, 0.010971006006002426]);    \n",
              "        "
            ]
          },
          "metadata": {}
        },
        {
          "output_type": "display_data",
          "data": {
            "text/plain": [
              "<IPython.core.display.Javascript object>"
            ],
            "application/javascript": [
              "\n",
              "            addData(myLineChart_1965689715, 24, [2.4510574803571217e-05, 0.006427175365388393]);    \n",
              "        "
            ]
          },
          "metadata": {}
        },
        {
          "output_type": "display_data",
          "data": {
            "text/plain": [
              "<IPython.core.display.Javascript object>"
            ],
            "application/javascript": [
              "\n",
              "            addData(myLineChart_1965689715, 25, [5.315746966516599e-05, 0.005464938934892416]);    \n",
              "        "
            ]
          },
          "metadata": {}
        },
        {
          "output_type": "display_data",
          "data": {
            "text/plain": [
              "<IPython.core.display.Javascript object>"
            ],
            "application/javascript": [
              "\n",
              "            addData(myLineChart_1965689715, 26, [3.29762369801756e-05, 0.008411061018705368]);    \n",
              "        "
            ]
          },
          "metadata": {}
        },
        {
          "output_type": "display_data",
          "data": {
            "text/plain": [
              "<IPython.core.display.Javascript object>"
            ],
            "application/javascript": [
              "\n",
              "            addData(myLineChart_1965689715, 27, [1.1860559425258543e-05, 0.001555575872771442]);    \n",
              "        "
            ]
          },
          "metadata": {}
        },
        {
          "output_type": "display_data",
          "data": {
            "text/plain": [
              "<IPython.core.display.Javascript object>"
            ],
            "application/javascript": [
              "\n",
              "            addData(myLineChart_1965689715, 28, [9.556837903801352e-05, 0.007054084446281195]);    \n",
              "        "
            ]
          },
          "metadata": {}
        },
        {
          "output_type": "display_data",
          "data": {
            "text/plain": [
              "<IPython.core.display.Javascript object>"
            ],
            "application/javascript": [
              "\n",
              "            addData(myLineChart_1965689715, 29, [8.060914842644706e-05, 0.0020947782322764397]);    \n",
              "        "
            ]
          },
          "metadata": {}
        },
        {
          "output_type": "display_data",
          "data": {
            "text/plain": [
              "<IPython.core.display.Javascript object>"
            ],
            "application/javascript": [
              "\n",
              "            addData(myLineChart_1965689715, 30, [2.404917722742539e-05, 0.003700501285493374]);    \n",
              "        "
            ]
          },
          "metadata": {}
        },
        {
          "output_type": "display_data",
          "data": {
            "text/plain": [
              "<IPython.core.display.Javascript object>"
            ],
            "application/javascript": [
              "\n",
              "            addData(myLineChart_1965689715, 31, [2.49789263762068e-05, 0.0020647933706641197]);    \n",
              "        "
            ]
          },
          "metadata": {}
        },
        {
          "output_type": "display_data",
          "data": {
            "text/plain": [
              "<IPython.core.display.Javascript object>"
            ],
            "application/javascript": [
              "\n",
              "            addData(myLineChart_1965689715, 32, [3.7714027712354437e-05, 0.005289909895509481]);    \n",
              "        "
            ]
          },
          "metadata": {}
        },
        {
          "output_type": "display_data",
          "data": {
            "text/plain": [
              "<IPython.core.display.Javascript object>"
            ],
            "application/javascript": [
              "\n",
              "            addData(myLineChart_1965689715, 33, [7.633007771801203e-05, 0.0035600061528384686]);    \n",
              "        "
            ]
          },
          "metadata": {}
        },
        {
          "output_type": "display_data",
          "data": {
            "text/plain": [
              "<IPython.core.display.Javascript object>"
            ],
            "application/javascript": [
              "\n",
              "            addData(myLineChart_1965689715, 34, [4.1394941945327446e-05, 0.0086347172036767]);    \n",
              "        "
            ]
          },
          "metadata": {}
        },
        {
          "output_type": "display_data",
          "data": {
            "text/plain": [
              "<IPython.core.display.Javascript object>"
            ],
            "application/javascript": [
              "\n",
              "            addData(myLineChart_1965689715, 35, [1.308553237322485e-05, 0.007256696932017803]);    \n",
              "        "
            ]
          },
          "metadata": {}
        },
        {
          "output_type": "display_data",
          "data": {
            "text/plain": [
              "<IPython.core.display.Javascript object>"
            ],
            "application/javascript": [
              "\n",
              "            addData(myLineChart_1965689715, 36, [3.392449434613809e-05, 0.0031064567156136036]);    \n",
              "        "
            ]
          },
          "metadata": {}
        },
        {
          "output_type": "display_data",
          "data": {
            "text/plain": [
              "<IPython.core.display.Javascript object>"
            ],
            "application/javascript": [
              "\n",
              "            addData(myLineChart_1965689715, 37, [7.84633266448509e-06, 0.003403496230021119]);    \n",
              "        "
            ]
          },
          "metadata": {}
        },
        {
          "output_type": "display_data",
          "data": {
            "text/plain": [
              "<IPython.core.display.Javascript object>"
            ],
            "application/javascript": [
              "\n",
              "            addData(myLineChart_1965689715, 38, [4.801669274456799e-05, 0.004682499915361404]);    \n",
              "        "
            ]
          },
          "metadata": {}
        },
        {
          "output_type": "display_data",
          "data": {
            "text/plain": [
              "<IPython.core.display.Javascript object>"
            ],
            "application/javascript": [
              "\n",
              "            addData(myLineChart_1965689715, 39, [1.8573517081676982e-05, 0.0036494748201221228]);    \n",
              "        "
            ]
          },
          "metadata": {}
        },
        {
          "output_type": "display_data",
          "data": {
            "text/plain": [
              "<IPython.core.display.Javascript object>"
            ],
            "application/javascript": [
              "\n",
              "            addData(myLineChart_1965689715, 40, [3.2344800274586305e-05, 0.003324400167912245]);    \n",
              "        "
            ]
          },
          "metadata": {}
        },
        {
          "output_type": "display_data",
          "data": {
            "text/plain": [
              "<IPython.core.display.Javascript object>"
            ],
            "application/javascript": [
              "\n",
              "            addData(myLineChart_1965689715, 41, [5.6765962654026225e-05, 0.0013220736291259527]);    \n",
              "        "
            ]
          },
          "metadata": {}
        },
        {
          "output_type": "display_data",
          "data": {
            "text/plain": [
              "<IPython.core.display.Javascript object>"
            ],
            "application/javascript": [
              "\n",
              "            addData(myLineChart_1965689715, 42, [2.0152301658526994e-05, 0.009703991003334522]);    \n",
              "        "
            ]
          },
          "metadata": {}
        },
        {
          "output_type": "display_data",
          "data": {
            "text/plain": [
              "<IPython.core.display.Javascript object>"
            ],
            "application/javascript": [
              "\n",
              "            addData(myLineChart_1965689715, 43, [9.009767381940037e-06, 0.008622666820883751]);    \n",
              "        "
            ]
          },
          "metadata": {}
        },
        {
          "output_type": "display_data",
          "data": {
            "text/plain": [
              "<IPython.core.display.Javascript object>"
            ],
            "application/javascript": [
              "\n",
              "            addData(myLineChart_1965689715, 44, [1.1747444659704342e-05, 0.00583758344873786]);    \n",
              "        "
            ]
          },
          "metadata": {}
        },
        {
          "output_type": "display_data",
          "data": {
            "text/plain": [
              "<IPython.core.display.Javascript object>"
            ],
            "application/javascript": [
              "\n",
              "            addData(myLineChart_1965689715, 45, [2.1666330212610774e-05, 0.001570993335917592]);    \n",
              "        "
            ]
          },
          "metadata": {}
        },
        {
          "output_type": "display_data",
          "data": {
            "text/plain": [
              "<IPython.core.display.Javascript object>"
            ],
            "application/javascript": [
              "\n",
              "            addData(myLineChart_1965689715, 46, [0.00013965355174150318, 0.0024936595000326633]);    \n",
              "        "
            ]
          },
          "metadata": {}
        },
        {
          "output_type": "display_data",
          "data": {
            "text/plain": [
              "<IPython.core.display.Javascript object>"
            ],
            "application/javascript": [
              "\n",
              "            addData(myLineChart_1965689715, 47, [0.00011408419231884181, 0.0017149393679574132]);    \n",
              "        "
            ]
          },
          "metadata": {}
        },
        {
          "output_type": "display_data",
          "data": {
            "text/plain": [
              "<IPython.core.display.Javascript object>"
            ],
            "application/javascript": [
              "\n",
              "            addData(myLineChart_1965689715, 48, [1.3651055269292556e-05, 0.005546846427023411]);    \n",
              "        "
            ]
          },
          "metadata": {}
        },
        {
          "output_type": "display_data",
          "data": {
            "text/plain": [
              "<IPython.core.display.Javascript object>"
            ],
            "application/javascript": [
              "\n",
              "            addData(myLineChart_1965689715, 49, [3.633541382441763e-06, 0.005869714077562094]);    \n",
              "        "
            ]
          },
          "metadata": {}
        },
        {
          "output_type": "display_data",
          "data": {
            "text/plain": [
              "<IPython.core.display.Javascript object>"
            ],
            "application/javascript": [
              "\n",
              "            addData(myLineChart_1965689715, 50, [1.4612828636018094e-05, 0.002101398538798094]);    \n",
              "        "
            ]
          },
          "metadata": {}
        },
        {
          "output_type": "display_data",
          "data": {
            "text/plain": [
              "<IPython.core.display.Javascript object>"
            ],
            "application/javascript": [
              "\n",
              "            addData(myLineChart_1965689715, 51, [1.4215812370821368e-05, 0.008393791504204273]);    \n",
              "        "
            ]
          },
          "metadata": {}
        },
        {
          "output_type": "display_data",
          "data": {
            "text/plain": [
              "<IPython.core.display.Javascript object>"
            ],
            "application/javascript": [
              "\n",
              "            addData(myLineChart_1965689715, 52, [2.064892578346189e-05, 0.0011445722775533795]);    \n",
              "        "
            ]
          },
          "metadata": {}
        },
        {
          "output_type": "display_data",
          "data": {
            "text/plain": [
              "<IPython.core.display.Javascript object>"
            ],
            "application/javascript": [
              "\n",
              "            addData(myLineChart_1965689715, 53, [7.373610424110666e-05, 0.004209463018923998]);    \n",
              "        "
            ]
          },
          "metadata": {}
        },
        {
          "output_type": "display_data",
          "data": {
            "text/plain": [
              "<IPython.core.display.Javascript object>"
            ],
            "application/javascript": [
              "\n",
              "            addData(myLineChart_1965689715, 54, [7.1906083576323e-06, 0.004757643677294254]);    \n",
              "        "
            ]
          },
          "metadata": {}
        },
        {
          "output_type": "display_data",
          "data": {
            "text/plain": [
              "<IPython.core.display.Javascript object>"
            ],
            "application/javascript": [
              "\n",
              "            addData(myLineChart_1965689715, 55, [7.895199814811349e-06, 0.002916413825005293]);    \n",
              "        "
            ]
          },
          "metadata": {}
        },
        {
          "output_type": "display_data",
          "data": {
            "text/plain": [
              "<IPython.core.display.Javascript object>"
            ],
            "application/javascript": [
              "\n",
              "            addData(myLineChart_1965689715, 56, [4.439533222466707e-05, 0.0039101168513298035]);    \n",
              "        "
            ]
          },
          "metadata": {}
        },
        {
          "output_type": "display_data",
          "data": {
            "text/plain": [
              "<IPython.core.display.Javascript object>"
            ],
            "application/javascript": [
              "\n",
              "            addData(myLineChart_1965689715, 57, [0.00010011513222707435, 0.0077842650935053825]);    \n",
              "        "
            ]
          },
          "metadata": {}
        },
        {
          "output_type": "display_data",
          "data": {
            "text/plain": [
              "<IPython.core.display.Javascript object>"
            ],
            "application/javascript": [
              "\n",
              "            addData(myLineChart_1965689715, 58, [1.7297536032856442e-05, 0.000994304078631103]);    \n",
              "        "
            ]
          },
          "metadata": {}
        },
        {
          "output_type": "display_data",
          "data": {
            "text/plain": [
              "<IPython.core.display.Javascript object>"
            ],
            "application/javascript": [
              "\n",
              "            addData(myLineChart_1965689715, 59, [3.89767865272006e-06, 0.006459543481469154]);    \n",
              "        "
            ]
          },
          "metadata": {}
        },
        {
          "output_type": "display_data",
          "data": {
            "text/plain": [
              "<IPython.core.display.Javascript object>"
            ],
            "application/javascript": [
              "\n",
              "            addData(myLineChart_1965689715, 60, [1.488695852458477e-05, 0.002923741238191724]);    \n",
              "        "
            ]
          },
          "metadata": {}
        },
        {
          "output_type": "display_data",
          "data": {
            "text/plain": [
              "<IPython.core.display.Javascript object>"
            ],
            "application/javascript": [
              "\n",
              "            addData(myLineChart_1965689715, 61, [1.7884096450870857e-05, 0.0019707023166120052]);    \n",
              "        "
            ]
          },
          "metadata": {}
        },
        {
          "output_type": "display_data",
          "data": {
            "text/plain": [
              "<IPython.core.display.Javascript object>"
            ],
            "application/javascript": [
              "\n",
              "            addData(myLineChart_1965689715, 62, [9.566950029693544e-05, 0.0010171427857130766]);    \n",
              "        "
            ]
          },
          "metadata": {}
        },
        {
          "output_type": "display_data",
          "data": {
            "text/plain": [
              "<IPython.core.display.Javascript object>"
            ],
            "application/javascript": [
              "\n",
              "            addData(myLineChart_1965689715, 63, [3.66440144716762e-05, 0.0024351472966372967]);    \n",
              "        "
            ]
          },
          "metadata": {}
        },
        {
          "output_type": "display_data",
          "data": {
            "text/plain": [
              "<IPython.core.display.Javascript object>"
            ],
            "application/javascript": [
              "\n",
              "            addData(myLineChart_1965689715, 64, [1.648761099204421e-05, 0.002260396722704172]);    \n",
              "        "
            ]
          },
          "metadata": {}
        },
        {
          "output_type": "display_data",
          "data": {
            "text/plain": [
              "<IPython.core.display.Javascript object>"
            ],
            "application/javascript": [
              "\n",
              "            addData(myLineChart_1965689715, 65, [3.7987614632584155e-05, 0.003951140679419041]);    \n",
              "        "
            ]
          },
          "metadata": {}
        },
        {
          "output_type": "display_data",
          "data": {
            "text/plain": [
              "<IPython.core.display.Javascript object>"
            ],
            "application/javascript": [
              "\n",
              "            addData(myLineChart_1965689715, 66, [3.708594522322528e-05, 0.007163382600992918]);    \n",
              "        "
            ]
          },
          "metadata": {}
        },
        {
          "output_type": "display_data",
          "data": {
            "text/plain": [
              "<IPython.core.display.Javascript object>"
            ],
            "application/javascript": [
              "\n",
              "            addData(myLineChart_1965689715, 67, [1.1395521141821519e-05, 0.0034598044585436583]);    \n",
              "        "
            ]
          },
          "metadata": {}
        },
        {
          "output_type": "display_data",
          "data": {
            "text/plain": [
              "<IPython.core.display.Javascript object>"
            ],
            "application/javascript": [
              "\n",
              "            addData(myLineChart_1965689715, 68, [7.762829227431212e-06, 0.0035535781644284725]);    \n",
              "        "
            ]
          },
          "metadata": {}
        },
        {
          "output_type": "display_data",
          "data": {
            "text/plain": [
              "<IPython.core.display.Javascript object>"
            ],
            "application/javascript": [
              "\n",
              "            addData(myLineChart_1965689715, 69, [6.18146441411227e-05, 0.0020065023563802242]);    \n",
              "        "
            ]
          },
          "metadata": {}
        },
        {
          "output_type": "display_data",
          "data": {
            "text/plain": [
              "<IPython.core.display.Javascript object>"
            ],
            "application/javascript": [
              "\n",
              "            addData(myLineChart_1965689715, 70, [1.0708391528169159e-05, 0.0016403242480009794]);    \n",
              "        "
            ]
          },
          "metadata": {}
        },
        {
          "output_type": "display_data",
          "data": {
            "text/plain": [
              "<IPython.core.display.Javascript object>"
            ],
            "application/javascript": [
              "\n",
              "            addData(myLineChart_1965689715, 71, [2.5929397452273406e-05, 0.005140472669154406]);    \n",
              "        "
            ]
          },
          "metadata": {}
        },
        {
          "output_type": "display_data",
          "data": {
            "text/plain": [
              "<IPython.core.display.Javascript object>"
            ],
            "application/javascript": [
              "\n",
              "            addData(myLineChart_1965689715, 72, [3.372111314092763e-05, 0.0016042792703956366]);    \n",
              "        "
            ]
          },
          "metadata": {}
        },
        {
          "output_type": "display_data",
          "data": {
            "text/plain": [
              "<IPython.core.display.Javascript object>"
            ],
            "application/javascript": [
              "\n",
              "            addData(myLineChart_1965689715, 73, [0.00011962130520259961, 0.002858982887119055]);    \n",
              "        "
            ]
          },
          "metadata": {}
        },
        {
          "output_type": "display_data",
          "data": {
            "text/plain": [
              "<IPython.core.display.Javascript object>"
            ],
            "application/javascript": [
              "\n",
              "            addData(myLineChart_1965689715, 74, [1.9538354536052793e-05, 0.0012803894933313131]);    \n",
              "        "
            ]
          },
          "metadata": {}
        },
        {
          "output_type": "display_data",
          "data": {
            "text/plain": [
              "<IPython.core.display.Javascript object>"
            ],
            "application/javascript": [
              "\n",
              "            addData(myLineChart_1965689715, 75, [4.1108149162027985e-05, 0.003274323185905814]);    \n",
              "        "
            ]
          },
          "metadata": {}
        },
        {
          "output_type": "display_data",
          "data": {
            "text/plain": [
              "<IPython.core.display.Javascript object>"
            ],
            "application/javascript": [
              "\n",
              "            addData(myLineChart_1965689715, 76, [2.1295132683007978e-05, 0.0007154590566642582]);    \n",
              "        "
            ]
          },
          "metadata": {}
        },
        {
          "output_type": "display_data",
          "data": {
            "text/plain": [
              "<IPython.core.display.Javascript object>"
            ],
            "application/javascript": [
              "\n",
              "            addData(myLineChart_1965689715, 77, [3.8101046811789274e-05, 0.006989477667957544]);    \n",
              "        "
            ]
          },
          "metadata": {}
        },
        {
          "output_type": "display_data",
          "data": {
            "text/plain": [
              "<IPython.core.display.Javascript object>"
            ],
            "application/javascript": [
              "\n",
              "            addData(myLineChart_1965689715, 78, [2.1203695723670535e-05, 0.001999109284952283]);    \n",
              "        "
            ]
          },
          "metadata": {}
        },
        {
          "output_type": "display_data",
          "data": {
            "text/plain": [
              "<IPython.core.display.Javascript object>"
            ],
            "application/javascript": [
              "\n",
              "            addData(myLineChart_1965689715, 79, [1.0287762052030303e-05, 0.004395929630845785]);    \n",
              "        "
            ]
          },
          "metadata": {}
        },
        {
          "output_type": "display_data",
          "data": {
            "text/plain": [
              "<IPython.core.display.Javascript object>"
            ],
            "application/javascript": [
              "\n",
              "            addData(myLineChart_1965689715, 80, [5.48890202480834e-05, 0.003975538536906242]);    \n",
              "        "
            ]
          },
          "metadata": {}
        },
        {
          "output_type": "display_data",
          "data": {
            "text/plain": [
              "<IPython.core.display.Javascript object>"
            ],
            "application/javascript": [
              "\n",
              "            addData(myLineChart_1965689715, 81, [5.855620838701725e-05, 0.00019219241221435368]);    \n",
              "        "
            ]
          },
          "metadata": {}
        },
        {
          "output_type": "display_data",
          "data": {
            "text/plain": [
              "<IPython.core.display.Javascript object>"
            ],
            "application/javascript": [
              "\n",
              "            addData(myLineChart_1965689715, 82, [2.571160439401865e-05, 0.0021131495013833046]);    \n",
              "        "
            ]
          },
          "metadata": {}
        },
        {
          "output_type": "display_data",
          "data": {
            "text/plain": [
              "<IPython.core.display.Javascript object>"
            ],
            "application/javascript": [
              "\n",
              "            addData(myLineChart_1965689715, 83, [2.1045578250777908e-05, 0.0029317252337932587]);    \n",
              "        "
            ]
          },
          "metadata": {}
        },
        {
          "output_type": "display_data",
          "data": {
            "text/plain": [
              "<IPython.core.display.Javascript object>"
            ],
            "application/javascript": [
              "\n",
              "            addData(myLineChart_1965689715, 84, [0.00016942917136475444, 0.0037751386407762766]);    \n",
              "        "
            ]
          },
          "metadata": {}
        },
        {
          "output_type": "display_data",
          "data": {
            "text/plain": [
              "<IPython.core.display.Javascript object>"
            ],
            "application/javascript": [
              "\n",
              "            addData(myLineChart_1965689715, 85, [7.143249968066812e-05, 0.000994834234006703]);    \n",
              "        "
            ]
          },
          "metadata": {}
        },
        {
          "output_type": "display_data",
          "data": {
            "text/plain": [
              "<IPython.core.display.Javascript object>"
            ],
            "application/javascript": [
              "\n",
              "            addData(myLineChart_1965689715, 86, [3.772942000068724e-05, 0.0009192360448651016]);    \n",
              "        "
            ]
          },
          "metadata": {}
        },
        {
          "output_type": "display_data",
          "data": {
            "text/plain": [
              "<IPython.core.display.Javascript object>"
            ],
            "application/javascript": [
              "\n",
              "            addData(myLineChart_1965689715, 87, [2.6654461180442013e-05, 0.003951261751353741]);    \n",
              "        "
            ]
          },
          "metadata": {}
        },
        {
          "output_type": "display_data",
          "data": {
            "text/plain": [
              "<IPython.core.display.Javascript object>"
            ],
            "application/javascript": [
              "\n",
              "            addData(myLineChart_1965689715, 88, [0.00013528682757169008, 0.0013391707325354218]);    \n",
              "        "
            ]
          },
          "metadata": {}
        },
        {
          "output_type": "display_data",
          "data": {
            "text/plain": [
              "<IPython.core.display.Javascript object>"
            ],
            "application/javascript": [
              "\n",
              "            addData(myLineChart_1965689715, 89, [2.979637065436691e-05, 0.002238302957266569]);    \n",
              "        "
            ]
          },
          "metadata": {}
        },
        {
          "output_type": "display_data",
          "data": {
            "text/plain": [
              "<IPython.core.display.Javascript object>"
            ],
            "application/javascript": [
              "\n",
              "            addData(myLineChart_1965689715, 90, [3.2725638448027894e-05, 0.002002950059249997]);    \n",
              "        "
            ]
          },
          "metadata": {}
        },
        {
          "output_type": "display_data",
          "data": {
            "text/plain": [
              "<IPython.core.display.Javascript object>"
            ],
            "application/javascript": [
              "\n",
              "            addData(myLineChart_1965689715, 91, [2.159918221877888e-05, 0.0006822248105891049]);    \n",
              "        "
            ]
          },
          "metadata": {}
        },
        {
          "output_type": "display_data",
          "data": {
            "text/plain": [
              "<IPython.core.display.Javascript object>"
            ],
            "application/javascript": [
              "\n",
              "            addData(myLineChart_1965689715, 92, [1.4362217370944563e-05, 0.0029164382722228765]);    \n",
              "        "
            ]
          },
          "metadata": {}
        },
        {
          "output_type": "display_data",
          "data": {
            "text/plain": [
              "<IPython.core.display.Javascript object>"
            ],
            "application/javascript": [
              "\n",
              "            addData(myLineChart_1965689715, 93, [4.627820999303367e-06, 0.004243005067110062]);    \n",
              "        "
            ]
          },
          "metadata": {}
        },
        {
          "output_type": "display_data",
          "data": {
            "text/plain": [
              "<IPython.core.display.Javascript object>"
            ],
            "application/javascript": [
              "\n",
              "            addData(myLineChart_1965689715, 94, [2.440096614009235e-05, 0.004627180751413107]);    \n",
              "        "
            ]
          },
          "metadata": {}
        },
        {
          "output_type": "display_data",
          "data": {
            "text/plain": [
              "<IPython.core.display.Javascript object>"
            ],
            "application/javascript": [
              "\n",
              "            addData(myLineChart_1965689715, 95, [8.831667400954757e-06, 0.0012281539384275675]);    \n",
              "        "
            ]
          },
          "metadata": {}
        },
        {
          "output_type": "display_data",
          "data": {
            "text/plain": [
              "<IPython.core.display.Javascript object>"
            ],
            "application/javascript": [
              "\n",
              "            addData(myLineChart_1965689715, 96, [0.00011917466326849535, 0.003088093362748623]);    \n",
              "        "
            ]
          },
          "metadata": {}
        },
        {
          "output_type": "display_data",
          "data": {
            "text/plain": [
              "<IPython.core.display.Javascript object>"
            ],
            "application/javascript": [
              "\n",
              "            addData(myLineChart_1965689715, 97, [3.644402022473514e-05, 0.004034742712974548]);    \n",
              "        "
            ]
          },
          "metadata": {}
        },
        {
          "output_type": "display_data",
          "data": {
            "text/plain": [
              "<IPython.core.display.Javascript object>"
            ],
            "application/javascript": [
              "\n",
              "            addData(myLineChart_1965689715, 98, [1.3131273590261117e-05, 0.0038470143917948008]);    \n",
              "        "
            ]
          },
          "metadata": {}
        },
        {
          "output_type": "display_data",
          "data": {
            "text/plain": [
              "<IPython.core.display.Javascript object>"
            ],
            "application/javascript": [
              "\n",
              "            addData(myLineChart_1965689715, 99, [4.3057193579443265e-06, 0.002967740409076214]);    \n",
              "        "
            ]
          },
          "metadata": {}
        },
        {
          "output_type": "display_data",
          "data": {
            "text/plain": [
              "<IPython.core.display.Javascript object>"
            ],
            "application/javascript": [
              "\n",
              "            addData(myLineChart_1965689715, 100, [8.521738891431596e-06, 0.005319368094205856]);    \n",
              "        "
            ]
          },
          "metadata": {}
        },
        {
          "output_type": "display_data",
          "data": {
            "text/plain": [
              "<IPython.core.display.Javascript object>"
            ],
            "application/javascript": [
              "\n",
              "            addData(myLineChart_1965689715, 101, [0.0001557772484375164, 0.005875735078006983]);    \n",
              "        "
            ]
          },
          "metadata": {}
        },
        {
          "output_type": "display_data",
          "data": {
            "text/plain": [
              "<IPython.core.display.Javascript object>"
            ],
            "application/javascript": [
              "\n",
              "            addData(myLineChart_1965689715, 102, [2.3069826056598686e-05, 0.0019286965252831578]);    \n",
              "        "
            ]
          },
          "metadata": {}
        },
        {
          "output_type": "display_data",
          "data": {
            "text/plain": [
              "<IPython.core.display.Javascript object>"
            ],
            "application/javascript": [
              "\n",
              "            addData(myLineChart_1965689715, 103, [5.8243462262908e-05, 0.0007053971057757735]);    \n",
              "        "
            ]
          },
          "metadata": {}
        },
        {
          "output_type": "display_data",
          "data": {
            "text/plain": [
              "<IPython.core.display.Javascript object>"
            ],
            "application/javascript": [
              "\n",
              "            addData(myLineChart_1965689715, 104, [8.066899681580253e-06, 0.0011079380055889487]);    \n",
              "        "
            ]
          },
          "metadata": {}
        },
        {
          "output_type": "display_data",
          "data": {
            "text/plain": [
              "<IPython.core.display.Javascript object>"
            ],
            "application/javascript": [
              "\n",
              "            addData(myLineChart_1965689715, 105, [1.6081778085208498e-05, 0.0009838104015216231]);    \n",
              "        "
            ]
          },
          "metadata": {}
        },
        {
          "output_type": "display_data",
          "data": {
            "text/plain": [
              "<IPython.core.display.Javascript object>"
            ],
            "application/javascript": [
              "\n",
              "            addData(myLineChart_1965689715, 106, [9.763920388650149e-05, 0.004573146812617779]);    \n",
              "        "
            ]
          },
          "metadata": {}
        },
        {
          "output_type": "display_data",
          "data": {
            "text/plain": [
              "<IPython.core.display.Javascript object>"
            ],
            "application/javascript": [
              "\n",
              "            addData(myLineChart_1965689715, 107, [1.2730667549476493e-05, 0.0018577020382508636]);    \n",
              "        "
            ]
          },
          "metadata": {}
        },
        {
          "output_type": "display_data",
          "data": {
            "text/plain": [
              "<IPython.core.display.Javascript object>"
            ],
            "application/javascript": [
              "\n",
              "            addData(myLineChart_1965689715, 108, [2.7549387596081942e-05, 0.001834067516028881]);    \n",
              "        "
            ]
          },
          "metadata": {}
        },
        {
          "output_type": "display_data",
          "data": {
            "text/plain": [
              "<IPython.core.display.Javascript object>"
            ],
            "application/javascript": [
              "\n",
              "            addData(myLineChart_1965689715, 109, [1.1992175132036209e-05, 0.005354871973395348]);    \n",
              "        "
            ]
          },
          "metadata": {}
        },
        {
          "output_type": "display_data",
          "data": {
            "text/plain": [
              "<IPython.core.display.Javascript object>"
            ],
            "application/javascript": [
              "\n",
              "            addData(myLineChart_1965689715, 110, [1.5384546713903546e-05, 0.0022006069775670767]);    \n",
              "        "
            ]
          },
          "metadata": {}
        },
        {
          "output_type": "display_data",
          "data": {
            "text/plain": [
              "<IPython.core.display.Javascript object>"
            ],
            "application/javascript": [
              "\n",
              "            addData(myLineChart_1965689715, 111, [5.340106326912064e-06, 0.004062176216393709]);    \n",
              "        "
            ]
          },
          "metadata": {}
        },
        {
          "output_type": "display_data",
          "data": {
            "text/plain": [
              "<IPython.core.display.Javascript object>"
            ],
            "application/javascript": [
              "\n",
              "            addData(myLineChart_1965689715, 112, [7.685123273404315e-05, 0.0007174257771112025]);    \n",
              "        "
            ]
          },
          "metadata": {}
        },
        {
          "output_type": "display_data",
          "data": {
            "text/plain": [
              "<IPython.core.display.Javascript object>"
            ],
            "application/javascript": [
              "\n",
              "            addData(myLineChart_1965689715, 113, [3.0983432225184515e-05, 0.001318493508733809]);    \n",
              "        "
            ]
          },
          "metadata": {}
        },
        {
          "output_type": "display_data",
          "data": {
            "text/plain": [
              "<IPython.core.display.Javascript object>"
            ],
            "application/javascript": [
              "\n",
              "            addData(myLineChart_1965689715, 114, [0.00012319558300077915, 0.0018237861804664135]);    \n",
              "        "
            ]
          },
          "metadata": {}
        },
        {
          "output_type": "display_data",
          "data": {
            "text/plain": [
              "<IPython.core.display.Javascript object>"
            ],
            "application/javascript": [
              "\n",
              "            addData(myLineChart_1965689715, 115, [0.00016648620658088475, 0.004426413215696812]);    \n",
              "        "
            ]
          },
          "metadata": {}
        },
        {
          "output_type": "display_data",
          "data": {
            "text/plain": [
              "<IPython.core.display.Javascript object>"
            ],
            "application/javascript": [
              "\n",
              "            addData(myLineChart_1965689715, 116, [1.0516177098907065e-05, 0.002305913483723998]);    \n",
              "        "
            ]
          },
          "metadata": {}
        },
        {
          "output_type": "display_data",
          "data": {
            "text/plain": [
              "<IPython.core.display.Javascript object>"
            ],
            "application/javascript": [
              "\n",
              "            addData(myLineChart_1965689715, 117, [3.6502882721833885e-05, 0.001978967571631074]);    \n",
              "        "
            ]
          },
          "metadata": {}
        },
        {
          "output_type": "display_data",
          "data": {
            "text/plain": [
              "<IPython.core.display.Javascript object>"
            ],
            "application/javascript": [
              "\n",
              "            addData(myLineChart_1965689715, 118, [6.322483386611566e-05, 0.0027843702118843794]);    \n",
              "        "
            ]
          },
          "metadata": {}
        },
        {
          "output_type": "display_data",
          "data": {
            "text/plain": [
              "<IPython.core.display.Javascript object>"
            ],
            "application/javascript": [
              "\n",
              "            addData(myLineChart_1965689715, 119, [4.3387040932429954e-05, 0.0013055279850959778]);    \n",
              "        "
            ]
          },
          "metadata": {}
        },
        {
          "output_type": "display_data",
          "data": {
            "text/plain": [
              "<IPython.core.display.Javascript object>"
            ],
            "application/javascript": [
              "\n",
              "            addData(myLineChart_1965689715, 120, [0.00013856678560841829, 0.0006844769814051688]);    \n",
              "        "
            ]
          },
          "metadata": {}
        },
        {
          "output_type": "display_data",
          "data": {
            "text/plain": [
              "<IPython.core.display.Javascript object>"
            ],
            "application/javascript": [
              "\n",
              "            addData(myLineChart_1965689715, 121, [1.4310714504972566e-05, 0.0017413451569154859]);    \n",
              "        "
            ]
          },
          "metadata": {}
        },
        {
          "output_type": "display_data",
          "data": {
            "text/plain": [
              "<IPython.core.display.Javascript object>"
            ],
            "application/javascript": [
              "\n",
              "            addData(myLineChart_1965689715, 122, [4.0469301893608645e-05, 0.0007898383773863316]);    \n",
              "        "
            ]
          },
          "metadata": {}
        },
        {
          "output_type": "display_data",
          "data": {
            "text/plain": [
              "<IPython.core.display.Javascript object>"
            ],
            "application/javascript": [
              "\n",
              "            addData(myLineChart_1965689715, 123, [1.094595791073516e-05, 0.0028301202692091465]);    \n",
              "        "
            ]
          },
          "metadata": {}
        },
        {
          "output_type": "display_data",
          "data": {
            "text/plain": [
              "<IPython.core.display.Javascript object>"
            ],
            "application/javascript": [
              "\n",
              "            addData(myLineChart_1965689715, 124, [7.226991783682024e-06, 0.002035174984484911]);    \n",
              "        "
            ]
          },
          "metadata": {}
        },
        {
          "output_type": "display_data",
          "data": {
            "text/plain": [
              "<IPython.core.display.Javascript object>"
            ],
            "application/javascript": [
              "\n",
              "            addData(myLineChart_1965689715, 125, [1.834871909522917e-05, 0.0029710803646594286]);    \n",
              "        "
            ]
          },
          "metadata": {}
        },
        {
          "output_type": "display_data",
          "data": {
            "text/plain": [
              "<IPython.core.display.Javascript object>"
            ],
            "application/javascript": [
              "\n",
              "            addData(myLineChart_1965689715, 126, [9.380837582284585e-05, 0.0031393340323120356]);    \n",
              "        "
            ]
          },
          "metadata": {}
        },
        {
          "output_type": "display_data",
          "data": {
            "text/plain": [
              "<IPython.core.display.Javascript object>"
            ],
            "application/javascript": [
              "\n",
              "            addData(myLineChart_1965689715, 127, [1.3117616617819294e-05, 0.0027824107091873884]);    \n",
              "        "
            ]
          },
          "metadata": {}
        },
        {
          "output_type": "display_data",
          "data": {
            "text/plain": [
              "<IPython.core.display.Javascript object>"
            ],
            "application/javascript": [
              "\n",
              "            addData(myLineChart_1965689715, 128, [7.660472329007462e-05, 0.0012664592359215021]);    \n",
              "        "
            ]
          },
          "metadata": {}
        },
        {
          "output_type": "display_data",
          "data": {
            "text/plain": [
              "<IPython.core.display.Javascript object>"
            ],
            "application/javascript": [
              "\n",
              "            addData(myLineChart_1965689715, 129, [3.841558282147162e-06, 0.003493271069601178]);    \n",
              "        "
            ]
          },
          "metadata": {}
        },
        {
          "output_type": "display_data",
          "data": {
            "text/plain": [
              "<IPython.core.display.Javascript object>"
            ],
            "application/javascript": [
              "\n",
              "            addData(myLineChart_1965689715, 130, [8.823315874906257e-05, 0.0007532982854172587]);    \n",
              "        "
            ]
          },
          "metadata": {}
        },
        {
          "output_type": "display_data",
          "data": {
            "text/plain": [
              "<IPython.core.display.Javascript object>"
            ],
            "application/javascript": [
              "\n",
              "            addData(myLineChart_1965689715, 131, [2.591601514723152e-05, 0.002599801402539015]);    \n",
              "        "
            ]
          },
          "metadata": {}
        },
        {
          "output_type": "display_data",
          "data": {
            "text/plain": [
              "<IPython.core.display.Javascript object>"
            ],
            "application/javascript": [
              "\n",
              "            addData(myLineChart_1965689715, 132, [4.404925857670605e-05, 0.0005639218143187463]);    \n",
              "        "
            ]
          },
          "metadata": {}
        },
        {
          "output_type": "display_data",
          "data": {
            "text/plain": [
              "<IPython.core.display.Javascript object>"
            ],
            "application/javascript": [
              "\n",
              "            addData(myLineChart_1965689715, 133, [9.67461965046823e-05, 0.0016173060284927487]);    \n",
              "        "
            ]
          },
          "metadata": {}
        },
        {
          "output_type": "display_data",
          "data": {
            "text/plain": [
              "<IPython.core.display.Javascript object>"
            ],
            "application/javascript": [
              "\n",
              "            addData(myLineChart_1965689715, 134, [1.135614456870826e-05, 0.0019549322314560413]);    \n",
              "        "
            ]
          },
          "metadata": {}
        },
        {
          "output_type": "display_data",
          "data": {
            "text/plain": [
              "<IPython.core.display.Javascript object>"
            ],
            "application/javascript": [
              "\n",
              "            addData(myLineChart_1965689715, 135, [4.010506017948501e-05, 0.0005074061919003725]);    \n",
              "        "
            ]
          },
          "metadata": {}
        },
        {
          "output_type": "display_data",
          "data": {
            "text/plain": [
              "<IPython.core.display.Javascript object>"
            ],
            "application/javascript": [
              "\n",
              "            addData(myLineChart_1965689715, 136, [8.349858944711741e-06, 0.0023374741431325674]);    \n",
              "        "
            ]
          },
          "metadata": {}
        },
        {
          "output_type": "display_data",
          "data": {
            "text/plain": [
              "<IPython.core.display.Javascript object>"
            ],
            "application/javascript": [
              "\n",
              "            addData(myLineChart_1965689715, 137, [3.957478384108981e-06, 0.002094325376674533]);    \n",
              "        "
            ]
          },
          "metadata": {}
        },
        {
          "output_type": "display_data",
          "data": {
            "text/plain": [
              "<IPython.core.display.Javascript object>"
            ],
            "application/javascript": [
              "\n",
              "            addData(myLineChart_1965689715, 138, [1.1335485396557488e-05, 0.0038376450538635254]);    \n",
              "        "
            ]
          },
          "metadata": {}
        },
        {
          "output_type": "display_data",
          "data": {
            "text/plain": [
              "<IPython.core.display.Javascript object>"
            ],
            "application/javascript": [
              "\n",
              "            addData(myLineChart_1965689715, 139, [4.58692702522967e-05, 0.0016673929058015347]);    \n",
              "        "
            ]
          },
          "metadata": {}
        },
        {
          "output_type": "display_data",
          "data": {
            "text/plain": [
              "<IPython.core.display.Javascript object>"
            ],
            "application/javascript": [
              "\n",
              "            addData(myLineChart_1965689715, 140, [4.05056998715736e-05, 0.0011725819204002619]);    \n",
              "        "
            ]
          },
          "metadata": {}
        },
        {
          "output_type": "display_data",
          "data": {
            "text/plain": [
              "<IPython.core.display.Javascript object>"
            ],
            "application/javascript": [
              "\n",
              "            addData(myLineChart_1965689715, 141, [1.3391803804552183e-05, 0.0020426008850336075]);    \n",
              "        "
            ]
          },
          "metadata": {}
        },
        {
          "output_type": "display_data",
          "data": {
            "text/plain": [
              "<IPython.core.display.Javascript object>"
            ],
            "application/javascript": [
              "\n",
              "            addData(myLineChart_1965689715, 142, [2.9187567633925937e-05, 0.0011953865177929401]);    \n",
              "        "
            ]
          },
          "metadata": {}
        },
        {
          "output_type": "display_data",
          "data": {
            "text/plain": [
              "<IPython.core.display.Javascript object>"
            ],
            "application/javascript": [
              "\n",
              "            addData(myLineChart_1965689715, 143, [1.0653438948793337e-05, 0.0010043038055300713]);    \n",
              "        "
            ]
          },
          "metadata": {}
        },
        {
          "output_type": "display_data",
          "data": {
            "text/plain": [
              "<IPython.core.display.Javascript object>"
            ],
            "application/javascript": [
              "\n",
              "            addData(myLineChart_1965689715, 144, [2.227965887868777e-05, 0.0005451879114843905]);    \n",
              "        "
            ]
          },
          "metadata": {}
        },
        {
          "output_type": "display_data",
          "data": {
            "text/plain": [
              "<IPython.core.display.Javascript object>"
            ],
            "application/javascript": [
              "\n",
              "            addData(myLineChart_1965689715, 145, [5.568028427660465e-06, 0.005898934323340654]);    \n",
              "        "
            ]
          },
          "metadata": {}
        },
        {
          "output_type": "display_data",
          "data": {
            "text/plain": [
              "<IPython.core.display.Javascript object>"
            ],
            "application/javascript": [
              "\n",
              "            addData(myLineChart_1965689715, 146, [5.940013215877116e-05, 0.004817517939954996]);    \n",
              "        "
            ]
          },
          "metadata": {}
        },
        {
          "output_type": "display_data",
          "data": {
            "text/plain": [
              "<IPython.core.display.Javascript object>"
            ],
            "application/javascript": [
              "\n",
              "            addData(myLineChart_1965689715, 147, [2.5848990844679065e-05, 0.001240812591277063]);    \n",
              "        "
            ]
          },
          "metadata": {}
        },
        {
          "output_type": "display_data",
          "data": {
            "text/plain": [
              "<IPython.core.display.Javascript object>"
            ],
            "application/javascript": [
              "\n",
              "            addData(myLineChart_1965689715, 148, [4.5047760067973286e-05, 0.003967288415879011]);    \n",
              "        "
            ]
          },
          "metadata": {}
        },
        {
          "output_type": "display_data",
          "data": {
            "text/plain": [
              "<IPython.core.display.Javascript object>"
            ],
            "application/javascript": [
              "\n",
              "            addData(myLineChart_1965689715, 149, [0.00013053140719421208, 0.0021261004731059074]);    \n",
              "        "
            ]
          },
          "metadata": {}
        },
        {
          "output_type": "stream",
          "name": "stdout",
          "text": [
            "CPU times: user 1min 19s, sys: 471 ms, total: 1min 19s\n",
            "Wall time: 1min 20s\n"
          ]
        }
      ]
    },
    {
      "cell_type": "markdown",
      "metadata": {
        "id": "35ndYIwIKteS"
      },
      "source": [
        "# Testing"
      ]
    },
    {
      "cell_type": "markdown",
      "source": [],
      "metadata": {
        "id": "5pAk93TJpiT4"
      }
    },
    {
      "cell_type": "code",
      "source": [
        "lstm.eval()\n",
        "with torch.inference_mode():\n",
        "  predictions = lstm(dataX)\n",
        "predictions = predictions.to('cpu')\n",
        "dataY = dataY.to('cpu')"
      ],
      "metadata": {
        "id": "WEm9aavIkeub"
      },
      "execution_count": 80,
      "outputs": []
    },
    {
      "cell_type": "code",
      "source": [
        "predictions.shape, dataY.shape"
      ],
      "metadata": {
        "colab": {
          "base_uri": "https://localhost:8080/"
        },
        "id": "sMosQ7uIlA5m",
        "outputId": "44e70a83-3cb0-46d5-d35c-280fea5eba1b"
      },
      "execution_count": 81,
      "outputs": [
        {
          "output_type": "execute_result",
          "data": {
            "text/plain": [
              "(torch.Size([2744, 7]), torch.Size([2744, 7]))"
            ]
          },
          "metadata": {},
          "execution_count": 81
        }
      ]
    },
    {
      "cell_type": "code",
      "source": [
        "loss = criterion(predictions, dataY)\n",
        "print(f\"Loss = {loss}\")"
      ],
      "metadata": {
        "colab": {
          "base_uri": "https://localhost:8080/"
        },
        "id": "DyeWXB3jn3Wh",
        "outputId": "4db14310-0075-4191-e4c9-61f4dfd65fe2"
      },
      "execution_count": 82,
      "outputs": [
        {
          "output_type": "stream",
          "name": "stdout",
          "text": [
            "Loss = 0.0007704794406890869\n"
          ]
        }
      ]
    },
    {
      "cell_type": "code",
      "source": [
        "predictions_np = predictions.reshape(-1,1).data.numpy()\n",
        "dataY_np = dataY.reshape(-1,1).data.numpy()"
      ],
      "metadata": {
        "id": "EGz7XVLSlM4q"
      },
      "execution_count": 83,
      "outputs": []
    },
    {
      "cell_type": "code",
      "source": [
        "predictions_np.shape, dataY_np.shape"
      ],
      "metadata": {
        "colab": {
          "base_uri": "https://localhost:8080/"
        },
        "id": "kD_ZyBYfluAd",
        "outputId": "80a7f8cb-8535-4e56-96a2-f4186631abef"
      },
      "execution_count": 84,
      "outputs": [
        {
          "output_type": "execute_result",
          "data": {
            "text/plain": [
              "((19208, 1), (19208, 1))"
            ]
          },
          "metadata": {},
          "execution_count": 84
        }
      ]
    },
    {
      "cell_type": "code",
      "source": [
        "plt.plot(predictions_np, label=\"Norm. predictions\")\n",
        "plt.plot(dataY_np, label=\"Norm. answers\")\n",
        "plt.legend()\n",
        "plt.title(\"Raw data\")\n",
        "plt.show()"
      ],
      "metadata": {
        "colab": {
          "base_uri": "https://localhost:8080/",
          "height": 452
        },
        "id": "1oz6JE0hkitT",
        "outputId": "b3609d6f-ab05-429a-8f8f-8ff7e7c90e7c"
      },
      "execution_count": 85,
      "outputs": [
        {
          "output_type": "display_data",
          "data": {
            "text/plain": [
              "<Figure size 640x480 with 1 Axes>"
            ],
            "image/png": "[encoded data removed]"
          },
          "metadata": {}
        }
      ]
    },
    {
      "cell_type": "code",
      "source": [
        "plt.plot(predictions_np[12500:], label=\"Norm. predictions\")\n",
        "plt.plot(dataY_np[12500:], label=\"Norm. answers\")\n",
        "plt.legend()\n",
        "plt.title(\"Raw data\")\n",
        "plt.show()"
      ],
      "metadata": {
        "colab": {
          "base_uri": "https://localhost:8080/",
          "height": 452
        },
        "id": "5H1cnVA17DEo",
        "outputId": "090728fd-efb8-4baf-b40b-8fcd080bfad7"
      },
      "execution_count": 86,
      "outputs": [
        {
          "output_type": "display_data",
          "data": {
            "text/plain": [
              "<Figure size 640x480 with 1 Axes>"
            ],
            "image/png": "[encoded data removed]"
          },
          "metadata": {}
        }
      ]
    },
    {
      "cell_type": "code",
      "source": [
        "dataY_np_unorm = outSc.inverse_transform(dataY_np)\n",
        "predictions_np_unorm = outSc.inverse_transform(predictions_np)"
      ],
      "metadata": {
        "id": "dsGdaDVXpeia"
      },
      "execution_count": 87,
      "outputs": []
    },
    {
      "cell_type": "code",
      "source": [
        "dataY_np_unorm[:3], dataY_np[:3]"
      ],
      "metadata": {
        "colab": {
          "base_uri": "https://localhost:8080/"
        },
        "id": "DVymX0saqrvm",
        "outputId": "a0329bf8-0cc9-40f1-964f-54f556924757"
      },
      "execution_count": 88,
      "outputs": [
        {
          "output_type": "execute_result",
          "data": {
            "text/plain": [
              "(array([[8227.601],\n",
              "        [8223.103],\n",
              "        [8191.513]], dtype=float32),\n",
              " array([[0.05727246],\n",
              "        [0.05720252],\n",
              "        [0.05671121]], dtype=float32))"
            ]
          },
          "metadata": {},
          "execution_count": 88
        }
      ]
    },
    {
      "cell_type": "code",
      "source": [
        "_dates = dates[seq_length : seq_length+dataY_np.size]\n",
        "print(_dates.size)"
      ],
      "metadata": {
        "colab": {
          "base_uri": "https://localhost:8080/"
        },
        "id": "jrht0j5d1Tbc",
        "outputId": "849223c4-c840-4356-fa44-1d83e721b8cc"
      },
      "execution_count": 89,
      "outputs": [
        {
          "output_type": "stream",
          "name": "stdout",
          "text": [
            "19208\n"
          ]
        }
      ]
    },
    {
      "cell_type": "code",
      "source": [
        "# Tworzenie wykresu\n",
        "fig, ax = plt.subplots()\n",
        "ax.plot(_dates, dataY_np_unorm, label=\"Original data\")\n",
        "ax.plot(_dates, predictions_np_unorm, label=\"Predictions\")\n",
        "ax.axvline(x=_dates[int(dataY_np.size*train_perc)], c='r', linestyle='--')\n",
        "# Ustawienie formatu daty\n",
        "date_form = DateFormatter(\"%Y.%m\")\n",
        "ax.xaxis.set_major_formatter(date_form)\n",
        "plt.xlabel(\"date\")\n",
        "plt.ylabel(\"BTC/USD price\")\n",
        "ax.legend()\n",
        "# Rotacja etykiet osi X\n",
        "plt.xticks(rotation=45)\n",
        "\n",
        "# Wyświetlenie wykresu\n",
        "plt.show()\n",
        "\n",
        "# plt.plot(predictions_np_unorm, label=\"predictions\")\n",
        "# plt.plot(dataY_np_unorm, label=\"answers\")\n",
        "# plt.legend()\n",
        "# plt.title(\"Predicted data\")\n",
        "# plt.show()"
      ],
      "metadata": {
        "colab": {
          "base_uri": "https://localhost:8080/",
          "height": 486
        },
        "id": "vMScf2V0qcga",
        "outputId": "7e258bbe-7dab-4d5b-a0d8-8479d82d3e36"
      },
      "execution_count": 90,
      "outputs": [
        {
          "output_type": "display_data",
          "data": {
            "text/plain": [
              "<Figure size 640x480 with 1 Axes>"
            ],
            "image/png": "[encoded data removed]"
          },
          "metadata": {}
        }
      ]
    },
    {
      "cell_type": "code",
      "source": [
        "# Tworzenie wykresu\n",
        "fig, ax = plt.subplots()\n",
        "startInd = int(_dates.size*train_perc)\n",
        "ax.plot(_dates[startInd:], dataY_np_unorm[startInd:], label=\"Original data\")\n",
        "ax.plot(_dates[startInd:], predictions_np_unorm[startInd:], label=\"Predictions\")\n",
        "#ax.axvline(x=dates[train_size], c='r', linestyle='--')\n",
        "# Ustawienie formatu daty\n",
        "date_form = DateFormatter(\"%Y.%m\")\n",
        "ax.xaxis.set_major_formatter(date_form)\n",
        "plt.xlabel(\"date\")\n",
        "plt.ylabel(\"BTC/USD price\")\n",
        "ax.legend()\n",
        "# Rotacja etykiet osi X\n",
        "plt.xticks(rotation=45)\n",
        "\n",
        "# Wyświetlenie wykresu\n",
        "plt.show()"
      ],
      "metadata": {
        "id": "ZDWvWw9y6pQ_",
        "colab": {
          "base_uri": "https://localhost:8080/",
          "height": 486
        },
        "outputId": "6f3eba0b-4aed-4b8a-8d57-152475cc6411"
      },
      "execution_count": 91,
      "outputs": [
        {
          "output_type": "display_data",
          "data": {
            "text/plain": [
              "<Figure size 640x480 with 1 Axes>"
            ],
            "image/png": "[encoded data removed]"
          },
          "metadata": {}
        }
      ]
    },
    {
      "cell_type": "code",
      "source": [
        "# Tworzenie wykresu\n",
        "fig, ax = plt.subplots()\n",
        "startInd = int(_dates.size*train_perc)\n",
        "ax.plot(_dates[-168:], dataY_np_unorm[-168:], label=\"Original data\")\n",
        "ax.plot(_dates[-168:], predictions_np_unorm[-168:], label=\"Predictions\")\n",
        "#ax.axvline(x=dates[train_size], c='r', linestyle='--')\n",
        "# Ustawienie formatu daty\n",
        "date_form = DateFormatter(\"%Y.%m.%d\")\n",
        "ax.xaxis.set_major_formatter(date_form)\n",
        "plt.xlabel(\"date\")\n",
        "plt.ylabel(\"BTC/USD price\")\n",
        "ax.legend()\n",
        "# Rotacja etykiet osi X\n",
        "plt.xticks(rotation=45)\n",
        "\n",
        "# Wyświetlenie wykresu\n",
        "plt.show()"
      ],
      "metadata": {
        "colab": {
          "base_uri": "https://localhost:8080/",
          "height": 501
        },
        "id": "ja0CiM-F7bae",
        "outputId": "67c6de9c-6cbe-4952-94a6-61b7c8c1d5de"
      },
      "execution_count": 92,
      "outputs": [
        {
          "output_type": "display_data",
          "data": {
            "text/plain": [
              "<Figure size 640x480 with 1 Axes>"
            ],
            "image/png": "[encoded data removed]"
          },
          "metadata": {}
        }
      ]
    }
  ]
}